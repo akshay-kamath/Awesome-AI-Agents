{
 "cells": [
  {
   "cell_type": "markdown",
   "metadata": {},
   "source": [
    "# LangGraph Studio"
   ]
  },
  {
   "cell_type": "markdown",
   "metadata": {
    "vscode": {
     "languageId": "plaintext"
    }
   },
   "source": [
    "# Setup\n",
    "\n",
    "1. Have [docker](https://docs.docker.com/) installed\n",
    "2. Download langgraph studio\n",
    "3. Setup a folder with the following files as `notebooks/langgraph-studio` (most important is having a `.env` with the `OPENAI_API_KEY` and `TAVILY_API_KEY`)\n",
    "4. Open up LangGraph studio (make sure docker is running)"
   ]
  }
 ],
 "metadata": {
  "language_info": {
   "name": "python"
  }
 },
 "nbformat": 4,
 "nbformat_minor": 2
}
