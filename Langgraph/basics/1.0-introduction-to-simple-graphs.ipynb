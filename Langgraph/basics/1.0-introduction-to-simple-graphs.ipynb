{
 "cells": [
  {
   "cell_type": "markdown",
   "metadata": {},
   "source": [
    "# States\n",
    "# Nodes\n",
    "# Edges\n",
    "# Graph (build & invoke)"
   ]
  },
  {
   "cell_type": "code",
   "execution_count": 9,
   "metadata": {},
   "outputs": [],
   "source": [
    "%%capture --no-stderr\n",
    "%pip install --quiet -U langgraph"
   ]
  },
  {
   "cell_type": "markdown",
   "metadata": {},
   "source": [
    "# <img src=\"2024-11-07-17-45-33.png\" width=\"50%\"/>"
   ]
  },
  {
   "cell_type": "code",
   "execution_count": 10,
   "metadata": {},
   "outputs": [],
   "source": [
    "import os, getpass\n",
    "\n",
    "def _set_env(var: str):\n",
    "    if not os.environ.get(var):\n",
    "        os.environ[var] = getpass.getpass(f\"{var}: \")\n",
    "\n",
    "_set_env(\"OPENAI_API_KEY\")"
   ]
  },
  {
   "cell_type": "code",
   "execution_count": 11,
   "metadata": {},
   "outputs": [],
   "source": [
    "from langgraph.graph import StateGraph, START, END"
   ]
  },
  {
   "cell_type": "markdown",
   "metadata": {},
   "source": [
    "# State\n",
    "\n",
    "State as a simple data structure that we update as we execute the graph."
   ]
  },
  {
   "cell_type": "code",
   "execution_count": null,
   "metadata": {},
   "outputs": [],
   "source": []
  },
  {
   "cell_type": "code",
   "execution_count": 24,
   "metadata": {},
   "outputs": [],
   "source": [
    "from typing_extensions import TypedDict\n",
    "\n",
    "class State(TypedDict):\n",
    "    \n",
    "    graph_state: str\n",
    "    kg_asked_question: str\n",
    "    lv_asked_for_a_review: int"
   ]
  },
  {
   "cell_type": "code",
   "execution_count": 25,
   "metadata": {},
   "outputs": [],
   "source": [
    "from typing import Literal\n",
    "import random\n",
    "\n",
    "def node1(state):\n",
    "    print(\"Passing by node 1\")\n",
    "    state[\"graph_state\"] = \"Lucas giving a presentation\"\n",
    "    state[\"kg_asked_question\"] = \"It was a beautiful question!\"\n",
    "    state[\"lv_asked_for_a_review\"] = 1\n",
    "    return state"
   ]
  },
  {
   "cell_type": "code",
   "execution_count": 26,
   "metadata": {},
   "outputs": [],
   "source": [
    "from langgraph.graph import StateGraph, START, END\n",
    "\n",
    "builder = StateGraph(State)\n",
    "\n",
    "builder.add_node(\"node1\", node1)\n",
    "\n",
    "builder.add_edge(START, \"node1\")\n",
    "\n",
    "builder.add_edge(\"node1\", END)\n",
    "\n",
    "graph = builder.compile()"
   ]
  },
  {
   "cell_type": "code",
   "execution_count": 27,
   "metadata": {},
   "outputs": [
    {
     "data": {
      "image/jpeg": "[encoded data removed]",
      "text/plain": [
       "<IPython.core.display.Image object>"
      ]
     },
     "metadata": {},
     "output_type": "display_data"
    }
   ],
   "source": [
    "from IPython.display import Image, display\n",
    "\n",
    "display(Image(graph.get_graph().draw_mermaid_png()))"
   ]
  },
  {
   "cell_type": "code",
   "execution_count": 28,
   "metadata": {},
   "outputs": [
    {
     "name": "stdout",
     "output_type": "stream",
     "text": [
      "Passing by node 1\n"
     ]
    },
    {
     "data": {
      "text/plain": [
       "{'graph_state': 'Lucas giving a presentation',\n",
       " 'kg_asked_question': 'It was a beautiful question!',\n",
       " 'lv_asked_for_a_review': 1}"
      ]
     },
     "execution_count": 28,
     "metadata": {},
     "output_type": "execute_result"
    }
   ],
   "source": [
    "graph.invoke({\"graph_state\": \"\"})"
   ]
  },
  {
   "cell_type": "code",
   "execution_count": 30,
   "metadata": {},
   "outputs": [],
   "source": [
    "from typing import Literal\n",
    "import random\n",
    "\n",
    "def node1(state):\n",
    "    print(\"Passing by node 1\")\n",
    "    state[\"graph_state\"] = \"node 1\"\n",
    "    return state\n",
    "\n",
    "def node2(state):\n",
    "    print(\"Passing by node 2\")\n",
    "    state[\"graph_state\"] = \"node 2\" \n",
    "    return state\n",
    "\n",
    "def node3(state):\n",
    "    print(\"Passing by node 3\")\n",
    "    state[\"graph_state\"] = \"node 3\"\n",
    "    return state\n",
    "\n",
    "# Implementing some conditional logic\n",
    "def decision_node(state) -> Literal[\"node2\", \"node3\"]:\n",
    "    \n",
    "    user_input = state[\"graph_state\"]\n",
    "    \n",
    "    if random.random() > 0.5:\n",
    "        return \"node2\"\n",
    "    else:\n",
    "        return \"node3\""
   ]
  },
  {
   "cell_type": "code",
   "execution_count": 31,
   "metadata": {},
   "outputs": [],
   "source": [
    "builder = StateGraph(State)\n",
    "\n",
    "builder.add_node(\"node1\", node1)\n",
    "builder.add_node(\"node2\", node2)\n",
    "builder.add_node(\"node3\", node3)\n",
    "\n",
    "builder.add_edge(START, \"node1\")\n",
    "builder.add_conditional_edges(\"node1\",decision_node)\n",
    "builder.add_edge(\"node2\", END)\n",
    "builder.add_edge(\"node3\", END)\n",
    "\n",
    "graph = builder.compile()"
   ]
  },
  {
   "cell_type": "code",
   "execution_count": 32,
   "metadata": {},
   "outputs": [
    {
     "data": {
      "image/jpeg": "[encoded data removed]",
      "text/plain": [
       "<IPython.core.display.Image object>"
      ]
     },
     "metadata": {},
     "output_type": "display_data"
    }
   ],
   "source": [
    "from IPython.display import Image, display\n",
    "\n",
    "display(Image(graph.get_graph().draw_mermaid_png()))"
   ]
  },
  {
   "cell_type": "code",
   "execution_count": 37,
   "metadata": {},
   "outputs": [
    {
     "name": "stdout",
     "output_type": "stream",
     "text": [
      "Passing by node 1\n",
      "Passing by node 3\n"
     ]
    },
    {
     "data": {
      "text/plain": [
       "{'graph_state': 'node 3'}"
      ]
     },
     "execution_count": 37,
     "metadata": {},
     "output_type": "execute_result"
    }
   ],
   "source": [
    "graph.invoke({\"graph_state\": \"\"})"
   ]
  },
  {
   "cell_type": "code",
   "execution_count": 38,
   "metadata": {},
   "outputs": [],
   "source": [
    "import matplotlib.pyplot as plt"
   ]
  },
  {
   "cell_type": "code",
   "execution_count": 39,
   "metadata": {},
   "outputs": [
    {
     "name": "stdout",
     "output_type": "stream",
     "text": [
      "Passing by node 1\n",
      "Passing by node 3\n",
      "Passing by node 1\n",
      "Passing by node 2\n",
      "Passing by node 1\n",
      "Passing by node 2\n",
      "Passing by node 1\n",
      "Passing by node 3\n",
      "Passing by node 1\n",
      "Passing by node 2\n",
      "Passing by node 1\n",
      "Passing by node 2\n",
      "Passing by node 1\n",
      "Passing by node 2\n",
      "Passing by node 1\n",
      "Passing by node 2\n",
      "Passing by node 1\n",
      "Passing by node 2\n",
      "Passing by node 1\n",
      "Passing by node 2\n",
      "Passing by node 1\n",
      "Passing by node 2\n",
      "Passing by node 1\n",
      "Passing by node 3\n",
      "Passing by node 1\n",
      "Passing by node 2\n",
      "Passing by node 1\n",
      "Passing by node 2\n",
      "Passing by node 1\n",
      "Passing by node 3\n",
      "Passing by node 1\n",
      "Passing by node 3\n",
      "Passing by node 1\n",
      "Passing by node 2\n",
      "Passing by node 1\n",
      "Passing by node 3\n",
      "Passing by node 1\n",
      "Passing by node 3\n",
      "Passing by node 1\n",
      "Passing by node 2\n",
      "Passing by node 1\n",
      "Passing by node 3\n",
      "Passing by node 1\n",
      "Passing by node 2\n",
      "Passing by node 1\n",
      "Passing by node 2\n",
      "Passing by node 1\n",
      "Passing by node 3\n",
      "Passing by node 1\n",
      "Passing by node 2\n",
      "Passing by node 1\n",
      "Passing by node 2\n",
      "Passing by node 1\n",
      "Passing by node 3\n",
      "Passing by node 1\n",
      "Passing by node 2\n",
      "Passing by node 1\n",
      "Passing by node 3\n",
      "Passing by node 1\n",
      "Passing by node 3\n",
      "Passing by node 1\n",
      "Passing by node 2\n",
      "Passing by node 1\n",
      "Passing by node 3\n",
      "Passing by node 1\n",
      "Passing by node 2\n",
      "Passing by node 1\n",
      "Passing by node 3\n",
      "Passing by node 1\n",
      "Passing by node 3\n",
      "Passing by node 1\n",
      "Passing by node 3\n",
      "Passing by node 1\n",
      "Passing by node 2\n",
      "Passing by node 1\n",
      "Passing by node 3\n",
      "Passing by node 1\n",
      "Passing by node 3\n",
      "Passing by node 1\n",
      "Passing by node 3\n",
      "Passing by node 1\n",
      "Passing by node 3\n",
      "Passing by node 1\n",
      "Passing by node 2\n",
      "Passing by node 1\n",
      "Passing by node 2\n",
      "Passing by node 1\n",
      "Passing by node 2\n",
      "Passing by node 1\n",
      "Passing by node 3\n",
      "Passing by node 1\n",
      "Passing by node 3\n",
      "Passing by node 1\n",
      "Passing by node 3\n",
      "Passing by node 1\n",
      "Passing by node 2\n",
      "Passing by node 1\n",
      "Passing by node 2\n",
      "Passing by node 1\n",
      "Passing by node 2\n",
      "Passing by node 1\n",
      "Passing by node 3\n",
      "Passing by node 1\n",
      "Passing by node 3\n",
      "Passing by node 1\n",
      "Passing by node 3\n",
      "Passing by node 1\n",
      "Passing by node 3\n",
      "Passing by node 1\n",
      "Passing by node 2\n",
      "Passing by node 1\n",
      "Passing by node 2\n",
      "Passing by node 1\n",
      "Passing by node 2\n",
      "Passing by node 1\n",
      "Passing by node 2\n",
      "Passing by node 1\n",
      "Passing by node 3\n",
      "Passing by node 1\n",
      "Passing by node 2\n",
      "Passing by node 1\n",
      "Passing by node 2\n",
      "Passing by node 1\n",
      "Passing by node 3\n",
      "Passing by node 1\n",
      "Passing by node 3\n",
      "Passing by node 1\n",
      "Passing by node 3\n",
      "Passing by node 1\n",
      "Passing by node 3\n",
      "Passing by node 1\n",
      "Passing by node 3\n",
      "Passing by node 1\n",
      "Passing by node 2\n",
      "Passing by node 1\n",
      "Passing by node 2\n",
      "Passing by node 1\n",
      "Passing by node 2\n",
      "Passing by node 1\n",
      "Passing by node 3\n",
      "Passing by node 1\n",
      "Passing by node 2\n",
      "Passing by node 1\n",
      "Passing by node 2\n",
      "Passing by node 1\n",
      "Passing by node 3\n",
      "Passing by node 1\n",
      "Passing by node 3\n",
      "Passing by node 1\n",
      "Passing by node 3\n",
      "Passing by node 1\n",
      "Passing by node 3\n",
      "Passing by node 1\n",
      "Passing by node 2\n",
      "Passing by node 1\n",
      "Passing by node 3\n",
      "Passing by node 1\n",
      "Passing by node 2\n",
      "Passing by node 1\n",
      "Passing by node 2\n",
      "Passing by node 1\n",
      "Passing by node 2\n",
      "Passing by node 1\n",
      "Passing by node 2\n",
      "Passing by node 1\n",
      "Passing by node 2\n",
      "Passing by node 1\n",
      "Passing by node 3\n",
      "Passing by node 1\n",
      "Passing by node 2\n",
      "Passing by node 1\n",
      "Passing by node 3\n",
      "Passing by node 1\n",
      "Passing by node 3\n",
      "Passing by node 1\n",
      "Passing by node 3\n",
      "Passing by node 1\n",
      "Passing by node 3\n",
      "Passing by node 1\n",
      "Passing by node 3\n",
      "Passing by node 1\n",
      "Passing by node 3\n",
      "Passing by node 1\n",
      "Passing by node 3\n",
      "Passing by node 1\n",
      "Passing by node 2\n",
      "Passing by node 1\n",
      "Passing by node 3\n",
      "Passing by node 1\n",
      "Passing by node 3\n",
      "Passing by node 1\n",
      "Passing by node 3\n",
      "Passing by node 1\n",
      "Passing by node 2\n",
      "Passing by node 1\n",
      "Passing by node 2\n",
      "Passing by node 1\n",
      "Passing by node 3\n",
      "Passing by node 1\n",
      "Passing by node 3\n"
     ]
    },
    {
     "data": {
      "image/png": "[encoded data removed]",
      "text/plain": [
       "<Figure size 800x500 with 1 Axes>"
      ]
     },
     "metadata": {},
     "output_type": "display_data"
    },
    {
     "name": "stdout",
     "output_type": "stream",
     "text": [
      "Node 2 occurred 48 times\n",
      "Node 3 occurred 52 times\n"
     ]
    }
   ],
   "source": [
    "# Run multiple times to collect statistics\n",
    "results = []\n",
    "for _ in range(100):\n",
    "    output = graph.invoke({\"graph_state\": \"\"})\n",
    "    results.append(output[\"graph_state\"])\n",
    "\n",
    "# Count occurrences\n",
    "node2_count = results.count(\"node 2\")\n",
    "node3_count = results.count(\"node 3\") \n",
    "\n",
    "# Create bar chart\n",
    "\n",
    "\n",
    "plt.figure(figsize=(8,5))\n",
    "plt.bar(['Node 2', 'Node 3'], [node2_count, node3_count])\n",
    "plt.title('Distribution of Graph State Outcomes')\n",
    "plt.ylabel('Count')\n",
    "plt.show()\n",
    "\n",
    "print(f\"Node 2 occurred {node2_count} times\")\n",
    "print(f\"Node 3 occurred {node3_count} times\")\n"
   ]
  }
 ],
 "metadata": {
  "kernelspec": {
   "display_name": "oreilly-langgraph",
   "language": "python",
   "name": "oreilly-langgraph"
  },
  "language_info": {
   "codemirror_mode": {
    "name": "ipython",
    "version": 3
   },
   "file_extension": ".py",
   "mimetype": "text/x-python",
   "name": "python",
   "nbconvert_exporter": "python",
   "pygments_lexer": "ipython3",
   "version": "3.11.10"
  }
 },
 "nbformat": 4,
 "nbformat_minor": 2
}
