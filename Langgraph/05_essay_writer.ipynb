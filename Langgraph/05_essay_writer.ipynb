{
 "cells": [
  {
   "cell_type": "markdown",
   "id": "e03580aa-cf8e-42d7-b33e-0e1afb0e3f0b",
   "metadata": {},
   "source": [
    "# Project: Essay Writer"
   ]
  },
  {
   "cell_type": "markdown",
   "id": "22c411f9-213f-4670-83ef-cfdea4f76cce",
   "metadata": {},
   "source": [
    "## Defining the AgentState and the Prompts"
   ]
  },
  {
   "cell_type": "code",
   "execution_count": 1,
   "id": "b703612b-a064-45c6-8229-e552f5325b34",
   "metadata": {},
   "outputs": [
    {
     "data": {
      "text/plain": [
       "True"
      ]
     },
     "execution_count": 1,
     "metadata": {},
     "output_type": "execute_result"
    }
   ],
   "source": [
    "# Loading the API key from .env\n",
    "from dotenv import load_dotenv, find_dotenv\n",
    "load_dotenv(find_dotenv(), override=True)"
   ]
  },
  {
   "cell_type": "code",
   "execution_count": 2,
   "id": "a018b7ad-db1c-4939-b065-b7e5a622e208",
   "metadata": {},
   "outputs": [],
   "source": [
    "from langchain_core.messages import AnyMessage, SystemMessage, HumanMessage, AIMessage, ChatMessage\n",
    "from langgraph.graph import StateGraph, END\n",
    "from langchain_openai import ChatOpenAI\n",
    "\n",
    "model = ChatOpenAI(model='gpt-4o-mini', temperature=0)"
   ]
  },
  {
   "cell_type": "code",
   "execution_count": 3,
   "id": "8ac505c9-cc57-4f5e-b9a7-2e747ad5d8d5",
   "metadata": {},
   "outputs": [],
   "source": [
    "from typing import TypedDict, List, Annotated\n",
    "\n",
    "# Creating a class for the agent state\n",
    "class AgentState(TypedDict):\n",
    "    task: str\n",
    "    plan: str\n",
    "    draft: str\n",
    "    critique: str\n",
    "    content: List[str]\n",
    "    revision_number: int\n",
    "    max_revisions: int"
   ]
  },
  {
   "cell_type": "code",
   "execution_count": 4,
   "id": "e5ae0151-0634-4220-beea-428a4e7896d0",
   "metadata": {},
   "outputs": [],
   "source": [
    "# Defining the planning prompt \n",
    "PLAN_PROMPT = '''You are an expert writer tasked with writing a high level outline of an essay.\n",
    "Write such an outline for the user provided topic.\n",
    "Give an outline of the essay along with any relevant notes or instructions for the sections.'''\n",
    "\n",
    "# defining the prompt that will be used by the agent that's doing research after the planning step\n",
    "# given a plan, it will generate some queries and pass them to Tavily\n",
    "RESEARCH_PLAN_PROMPT = '''You are a researcher charged with providing information that can be used when writing the following essay.\n",
    "Generate a list of search queries that will gather any relevant information. Only generate 3 queries max.'''\n",
    "\n",
    "# Defining the writer prompt\n",
    "WRITER_PROMPT = '''You are an essay assistant tasked with writing excellent 5-paragraph essays.\n",
    "Generate the best essay possible for the user's request and the initial outline.\n",
    "If the user provides critique, respond with a revised version of your previous attempts.\n",
    "Utilize all the information below as needed: \n",
    "\n",
    "------\n",
    "\n",
    "{content}'''\n",
    "\n",
    "# Defining the reflection prompt\n",
    "REFLECTION_PROMPT = '''You are a teacher grading an essay submission.\n",
    "Generate critique and recommendations for the user's submission.\n",
    "Provide detailed recommendations, including requests for length, depth, style, etc.'''\n",
    "\n",
    "# Defining the research critique prompt\n",
    "RESEARCH_CRITIQUE_PROMPT = ''''You are a researcher charged with providing information that can \\\n",
    "be used when making any requested revisions (as outlined below).\n",
    "Generate a list of search queries that will gather any relevant information. Only generate 3 queries max.'''\n"
   ]
  },
  {
   "cell_type": "code",
   "execution_count": 5,
   "id": "8d5ae767-2fcf-41b9-aaf9-b0218a76b567",
   "metadata": {},
   "outputs": [
    {
     "name": "stderr",
     "output_type": "stream",
     "text": [
      "/home/dda/projects/python/AI_Notebooks_OpenAI_LangChain_Copilot_Gemini/myenv311/lib/python3.11/site-packages/IPython/core/interactiveshell.py:3577: LangChainDeprecationWarning: As of langchain-core 0.3.0, LangChain uses pydantic v2 internally. The langchain_core.pydantic_v1 module was a compatibility shim for pydantic v1, and should no longer be used. Please update the code to import from Pydantic directly.\n",
      "\n",
      "For example, replace imports like: `from langchain_core.pydantic_v1 import BaseModel`\n",
      "with: `from pydantic import BaseModel`\n",
      "or the v1 compatibility namespace if you are working in a code base that has not been fully upgraded to pydantic 2 yet. \tfrom pydantic.v1 import BaseModel\n",
      "\n",
      "  exec(code_obj, self.user_global_ns, self.user_ns)\n"
     ]
    }
   ],
   "source": [
    "from langchain_core.pydantic_v1 import BaseModel\n",
    "\n",
    "class Queries(BaseModel):\n",
    "    queries: List[str]"
   ]
  },
  {
   "cell_type": "code",
   "execution_count": 6,
   "id": "6935e0d2-e558-46d7-bb4b-e07bccf9d0b5",
   "metadata": {},
   "outputs": [],
   "source": [
    "# Importing and instantiating a tavily client\n",
    "from tavily import TavilyClient\n",
    "import os\n",
    "\n",
    "tavily = TavilyClient(api_key=os.environ['TAVILY_API_KEY'])\n"
   ]
  },
  {
   "cell_type": "markdown",
   "id": "a1517dde-339e-425f-a8ab-b702b34ce5bb",
   "metadata": {},
   "source": [
    "## Implementing the Agents and the Nodes"
   ]
  },
  {
   "cell_type": "code",
   "execution_count": 7,
   "id": "6640e799-9cde-4052-98bd-82cf8044c9bc",
   "metadata": {},
   "outputs": [],
   "source": [
    "# Creating the planning node\n",
    "def plan_node(state: AgentState):\n",
    "    messages = [\n",
    "        SystemMessage(content=PLAN_PROMPT), \n",
    "        HumanMessage(content=state['task'])\n",
    "    ]\n",
    "    response = model.invoke(messages)\n",
    "    return {\"plan\": response.content}\n"
   ]
  },
  {
   "cell_type": "code",
   "execution_count": 8,
   "id": "d9742b50-a52b-4478-8c7a-e27bf0f6c6f6",
   "metadata": {},
   "outputs": [],
   "source": [
    "# Creating the reseach_plan_node\n",
    "# It generates research queries based on a given task and retrieves relevant content using those queries\n",
    "def research_plan_node(state: AgentState):\n",
    "    queries = model.with_structured_output(Queries).invoke([\n",
    "        SystemMessage(content=RESEARCH_PLAN_PROMPT),\n",
    "        HumanMessage(content=state['task'])\n",
    "    ])\n",
    "    # content = state['content'] or [] # fix - change to this:\n",
    "    content = state.get('content', [])\n",
    "    \n",
    "    for q in queries.queries:\n",
    "        response = tavily.search(query=q, max_results=2)\n",
    "        for r in response['results']:\n",
    "            content.append(r['content'])\n",
    "    return {\"content\": content}\n"
   ]
  },
  {
   "cell_type": "code",
   "execution_count": 9,
   "id": "4d1940f6-ffac-4508-9de7-ad963f74c74a",
   "metadata": {},
   "outputs": [],
   "source": [
    "# Creating the generation node\n",
    "def generation_node(state: AgentState):\n",
    "    content = \"\\n\\n\".join(state['content'] or [])\n",
    "    \n",
    "    user_message = HumanMessage(\n",
    "        content=f\"{state['task']}\\n\\nHere is my plan:\\n\\n{state['plan']}\")\n",
    "    \n",
    "    messages = [\n",
    "        SystemMessage(\n",
    "            content=WRITER_PROMPT.format(content=content)\n",
    "        ),\n",
    "        user_message\n",
    "        ]\n",
    "    \n",
    "    response = model.invoke(messages)\n",
    "     \n",
    "    return {\n",
    "        \"draft\": response.content, \n",
    "        \"revision_number\": state.get(\"revision_number\", 1) + 1\n",
    "    }\n"
   ]
  },
  {
   "cell_type": "code",
   "execution_count": 10,
   "id": "b2c20f31-7e3e-401e-b475-c55b62e7adeb",
   "metadata": {},
   "outputs": [],
   "source": [
    "# Creating the reflection node\n",
    "def reflection_node(state: AgentState):\n",
    "    messages = [\n",
    "        SystemMessage(content=REFLECTION_PROMPT), \n",
    "        HumanMessage(content=state['draft'])\n",
    "    ]\n",
    "    response = model.invoke(messages)\n",
    "    return {\"critique\": response.content}\n",
    "\n"
   ]
  },
  {
   "cell_type": "code",
   "execution_count": 11,
   "id": "9e072cfe-1a14-47f8-8b53-2d93fd4983fb",
   "metadata": {},
   "outputs": [],
   "source": [
    "# Creating the research critique node\n",
    "def research_critique_node(state: AgentState):\n",
    "    queries = model.with_structured_output(Queries).invoke([\n",
    "        SystemMessage(content=RESEARCH_CRITIQUE_PROMPT),\n",
    "        HumanMessage(content=state['critique'])\n",
    "    ])\n",
    "    content = state['content'] or []\n",
    "    for q in queries.queries:\n",
    "        response = tavily.search(query=q, max_results=2)\n",
    "        for r in response['results']:\n",
    "            content.append(r['content'])\n",
    "    return {'content': content}\n"
   ]
  },
  {
   "cell_type": "markdown",
   "id": "4b0c1e86-73ba-4cf6-a4bf-376f8aa74d04",
   "metadata": {},
   "source": [
    "## Defining the Conditional Edge"
   ]
  },
  {
   "cell_type": "code",
   "execution_count": 12,
   "id": "bb0a535e-9223-4793-af1b-b6709e37953f",
   "metadata": {},
   "outputs": [],
   "source": [
    "# Defining the conditional edge\n",
    "def should_continue(state):\n",
    "    if state['revision_number'] > state['max_revisions']:\n",
    "        return END\n",
    "    return 'reflect'\n"
   ]
  },
  {
   "cell_type": "markdown",
   "id": "22d8f395-e863-4473-98e8-513eb560334c",
   "metadata": {},
   "source": [
    "## Defining the Graph"
   ]
  },
  {
   "cell_type": "code",
   "execution_count": 13,
   "id": "dfb5fc17-3089-4fce-9df8-33e8ab3fcc17",
   "metadata": {},
   "outputs": [],
   "source": [
    "builder = StateGraph(AgentState)\n",
    "\n",
    "# Adding nodes to the graph\n",
    "builder.add_node('planner', plan_node)\n",
    "builder.add_node('generate', generation_node)\n",
    "builder.add_node('reflect', reflection_node)\n",
    "builder.add_node('research_plan', research_plan_node)\n",
    "builder.add_node('research_critique', research_critique_node)\n",
    "\n",
    "# Setting the entry point of the state graph\n",
    "builder.set_entry_point('planner')\n",
    "\n",
    "# Adding the conditional edge\n",
    "builder.add_conditional_edges(\n",
    "    'generate', \n",
    "    should_continue, \n",
    "    {END: END, 'reflect': 'reflect'}\n",
    ")\n",
    "\n",
    "# Adding regular edges\n",
    "builder.add_edge('planner', 'research_plan')\n",
    "builder.add_edge('research_plan', 'generate')\n",
    "\n",
    "builder.add_edge('reflect', 'research_critique')\n",
    "builder.add_edge('research_critique', 'generate')\n"
   ]
  },
  {
   "cell_type": "code",
   "execution_count": null,
   "id": "d6ddf99b-5431-437d-be67-e1ab9c3b3690",
   "metadata": {},
   "outputs": [],
   "source": []
  },
  {
   "cell_type": "code",
   "execution_count": 18,
   "id": "aa046d75-3cf1-410c-bc33-8900bf97ebb0",
   "metadata": {},
   "outputs": [
    {
     "name": "stdout",
     "output_type": "stream",
     "text": [
      "Note: you may need to restart the kernel to use updated packages.\n"
     ]
    }
   ],
   "source": [
    "pip install -q langgraph-checkpoint-sqlite"
   ]
  },
  {
   "cell_type": "code",
   "execution_count": 14,
   "id": "3dbec2fc-d15b-49e4-823e-b2ecd1c84ad6",
   "metadata": {},
   "outputs": [],
   "source": [
    "from langgraph.checkpoint.sqlite import SqliteSaver\n",
    "# fix - import this\n",
    "from langgraph.checkpoint.memory import MemorySaver\n",
    "\n",
    "memory = SqliteSaver.from_conn_string(':memory:')\n",
    "\n",
    "# graph = builder.compile(checkpointer=memory) # fix - change to this:\n",
    "graph = builder.compile(checkpointer=MemorySaver())"
   ]
  },
  {
   "cell_type": "code",
   "execution_count": 15,
   "id": "449632fe-c289-4ddf-8914-62b7300b24cc",
   "metadata": {},
   "outputs": [
    {
     "data": {
      "image/jpeg": "[encoded data removed]",
      "text/plain": [
       "<IPython.core.display.Image object>"
      ]
     },
     "metadata": {},
     "output_type": "display_data"
    }
   ],
   "source": [
    "from IPython.display import Image, display\n",
    "display(Image(graph.get_graph().draw_mermaid_png()))\n"
   ]
  },
  {
   "cell_type": "markdown",
   "id": "935ac083-d59b-42c8-8e0a-47052381704c",
   "metadata": {},
   "source": [
    "## Running the Agentic App"
   ]
  },
  {
   "cell_type": "code",
   "execution_count": 16,
   "id": "58a49952-2e15-4f7a-8738-a66b92d4c686",
   "metadata": {},
   "outputs": [
    {
     "name": "stdout",
     "output_type": "stream",
     "text": [
      "{'planner': {'plan': \"**Outline for Essay on Nvidia Blackwell AI Chip**\\n\\n**I. Introduction**\\n   A. Background on Nvidia as a leader in AI technology\\n      1. Brief history of Nvidia's contributions to AI and computing\\n      2. Overview of the importance of AI chips in modern technology\\n   B. Introduction to the Blackwell AI chip\\n      1. Definition and purpose of the Blackwell chip\\n      2. Significance of the Blackwell chip in the context of AI advancements\\n\\n**II. Technical Specifications of the Blackwell AI Chip**\\n   A. Architecture and design\\n      1. Overview of the chip architecture (e.g., GPU vs. TPU)\\n      2. Innovations in design that enhance performance\\n   B. Performance metrics\\n      1. Processing power (e.g., FLOPS, memory bandwidth)\\n      2. Energy efficiency and thermal management\\n   C. Comparison with previous Nvidia chips (e.g., Ampere, Hopper)\\n      1. Improvements in speed and efficiency\\n      2. Benchmark results\\n\\n**III. Applications of the Blackwell AI Chip**\\n   A. Use in machine learning and deep learning\\n      1. Training large models and datasets\\n      2. Real-time inference capabilities\\n   B. Industry-specific applications\\n      1. Healthcare (e.g., medical imaging, drug discovery)\\n      2. Automotive (e.g., autonomous driving)\\n      3. Gaming and entertainment (e.g., graphics rendering)\\n   C. Future potential and emerging applications\\n      1. AI in edge computing\\n      2. Integration with IoT devices\\n\\n**IV. Competitive Landscape**\\n   A. Comparison with competitors (e.g., AMD, Intel, Google)\\n      1. Strengths and weaknesses of Nvidia's Blackwell chip\\n      2. Market positioning and strategic advantages\\n   B. Industry trends and challenges\\n      1. Supply chain issues and semiconductor shortages\\n      2. Regulatory and ethical considerations in AI development\\n\\n**V. Conclusion**\\n   A. Summary of key points discussed\\n   B. The future of Nvidia's Blackwell AI chip and its impact on the AI landscape\\n   C. Final thoughts on the role of advanced AI chips in shaping technology and society\\n\\n**Notes/Instructions:**\\n- Ensure that each section is well-researched and supported by credible sources.\\n- Use diagrams or charts where applicable to illustrate technical specifications and performance comparisons.\\n- Include quotes or insights from industry experts to enhance the credibility of the analysis.\\n- Consider the implications of the Blackwell chip on future AI developments and societal impacts in the conclusion.\"}}\n",
      "----------------------------------------------------------------------------------------------------\n",
      "{'research_plan': {'content': [\"NVIDIA's Blackwell GPU architecture revolutionizes AI with unparalleled performance, scalability and efficiency. Anchored by the Grace Blackwell GB200 superchip and GB200 NVL72, it boasts 30X more performance and 25X more energy efficiency over its predecessor.\", 'Blackwell’s Decompression Engine and ability to access massive amounts of memory in the NVIDIA Grace™ CPU over a high-speed link—900 gigabytes per second (GB/s) of bidirectional bandwidth—accelerate the full pipeline of database queries for the highest performance in data analytics and data science with support for the latest compression formats such as LZ4, Snappy, and Deflate.\\n Second-Generation Transformer Engine\\nThe second-generation Transformer Engine uses custom Blackwell Tensor Core technology combined with NVIDIA® TensorRT™-LLM and NeMo™ Framework innovations to accelerate inference and training for large language models (LLMs) and Mixture-of-Experts (MoE) models.\\n NVLink and NVLink Switch\\nUnlocking the full potential of exascale computing and trillion-parameter AI models hinges on the need for swift, seamless communication among every GPU within a server cluster. Breaking Barriers in Accelerated Computing and Generative AI\\nExplore the groundbreaking advancements the NVIDIA Blackwell architecture brings to generative AI and accelerated computing. The NVIDIA NVLink Switch Chip enables 130TB/s of GPU bandwidth in one 72-GPU NVLink domain (NVL72) and delivers 4X bandwidth efficiency with NVIDIA Scalable Hierarchical Aggregation and Reduction Protocol (SHARP)™ FP8 support.', 'Nvidia on Monday announced a new generation of artificial intelligence chips and software for running AI models. The new AI graphics processors are named Blackwell and are expected to ship later ...', 'GTC— Powering a new era of computing, NVIDIA today announced that the NVIDIA Blackwell platform has arrived — enabling organizations everywhere to build and run real-time generative AI on trillion-parameter large language models at up to 25x less cost and energy consumption than its predecessor. The Blackwell GPU architecture features six ...', \"Nvidia will start sending out engineering samples of its upcoming\\xa0Blackwell processors\\xa0for AI applications this week, chief executive of Nvidia Jensen Huang said at Siggraph. It is unclear whether Nvidia is beginning to sample Blackwell processors with hardware or software developers. In fact, given that Nvidia's partners among hardware makers, such as Foxconn, Quanta, Wistron, Pegatron, and Asus have demonstrated their Blackwell-based servers at Computex, they may have been playing with Blackwell processors for a while now. According to a\\xa0Morgan Stanley report, Nvidia and its partners will charge about $2 million to $3 million per AI server cabinet equipped with Blackwell GPUs. To date, Nvidia has introduced two reference server cabinets: the NVL36, with 36 B200 GPUs, priced around $2 million, and the NVL72, with 72 B200 GPUs, starting at $3 million.\", 'Explore the groundbreaking advancements the NVIDIA Blackwell architecture brings to generative AI and accelerated computing. Building upon generations of NVIDIA technologies, Blackwell defines the next chapter in generative AI with unparalleled performance, efficiency, and scale. Blackwell includes NVIDIA Confidential Computing, which protects sensitive data and AI models from unauthorized access with strong hardware-based security. Blackwell’s Decompression Engine and ability to access massive amounts of memory in the NVIDIA Grace™ CPU over a high-speed link—900 gigabytes per second (GB/s) of bidirectional bandwidth—accelerate the full pipeline of database queries for the highest performance in data analytics and data science with support for the latest compression formats such as LZ4, Snappy, and Deflate.']}}\n",
      "----------------------------------------------------------------------------------------------------\n",
      "{'generate': {'draft': \"**Nvidia Blackwell AI Chip: Revolutionizing the Future of Artificial Intelligence**\\n\\n**I. Introduction**\\n\\nNvidia has long been a pioneer in the realm of artificial intelligence (AI) and computing, consistently pushing the boundaries of what is possible with its innovative technologies. Since its inception, Nvidia has transformed the landscape of graphics processing units (GPUs) and AI applications, establishing itself as a leader in the industry. The importance of AI chips in modern technology cannot be overstated, as they serve as the backbone for a multitude of applications ranging from machine learning to real-time data processing. Among its latest advancements, the Nvidia Blackwell AI chip stands out as a groundbreaking innovation, designed to enhance performance, scalability, and efficiency in AI workloads. This essay will explore the technical specifications, applications, competitive landscape, and future implications of the Blackwell AI chip.\\n\\n**II. Technical Specifications of the Blackwell AI Chip**\\n\\nThe architecture and design of the Blackwell AI chip represent a significant leap forward in GPU technology. Unlike traditional chips, the Blackwell architecture integrates advanced features that optimize performance for AI tasks. With the introduction of the Grace Blackwell GB200 superchip, the Blackwell architecture boasts an impressive 30 times more performance and 25 times greater energy efficiency compared to its predecessor, the Ampere architecture. The chip's performance metrics are equally remarkable, with a processing power that supports 900 gigabytes per second (GB/s) of bidirectional memory bandwidth, enabling rapid data access and processing. When compared to previous Nvidia chips, such as Ampere and Hopper, the Blackwell chip demonstrates substantial improvements in speed and efficiency, as evidenced by benchmark results that highlight its superior capabilities in handling large datasets and complex computations.\\n\\n**III. Applications of the Blackwell AI Chip**\\n\\nThe versatility of the Blackwell AI chip allows it to excel in various applications within machine learning and deep learning. Its ability to train large models and datasets efficiently makes it an invaluable tool for researchers and developers alike. Moreover, the chip's real-time inference capabilities enable rapid decision-making processes, which are crucial in industries such as healthcare, automotive, and gaming. In healthcare, for instance, the Blackwell chip can enhance medical imaging and accelerate drug discovery processes. In the automotive sector, it plays a vital role in the development of autonomous driving technologies. Additionally, the gaming and entertainment industries benefit from the chip's advanced graphics rendering capabilities. Looking ahead, the Blackwell AI chip holds immense potential for emerging applications, including AI in edge computing and integration with Internet of Things (IoT) devices, further expanding its impact on various sectors.\\n\\n**IV. Competitive Landscape**\\n\\nIn the competitive landscape of AI chips, Nvidia's Blackwell chip faces challenges and opportunities from other industry players such as AMD, Intel, and Google. Each competitor has its strengths and weaknesses, but Nvidia's strategic advantages lie in its established reputation, extensive ecosystem, and continuous innovation. The Blackwell chip's unique features, such as the second-generation Transformer Engine and NVLink technology, position it favorably in the market. However, the industry is not without challenges, including supply chain issues and semiconductor shortages that can hinder production and distribution. Additionally, regulatory and ethical considerations surrounding AI development pose significant challenges that the industry must navigate to ensure responsible innovation.\\n\\n**V. Conclusion**\\n\\nIn summary, the Nvidia Blackwell AI chip represents a monumental advancement in the field of artificial intelligence, characterized by its exceptional performance, efficiency, and versatility. As explored in this essay, the chip's technical specifications and applications highlight its potential to revolutionize various industries and drive future AI developments. Looking ahead, the Blackwell AI chip is poised to play a crucial role in shaping the AI landscape, influencing technological advancements and societal impacts. As we continue to embrace the capabilities of advanced AI chips, it is essential to consider their implications on technology and society, ensuring that innovation aligns with ethical standards and fosters positive outcomes for all.\", 'revision_number': 2}}\n",
      "----------------------------------------------------------------------------------------------------\n",
      "{'reflect': {'critique': '**Critique of the Essay Submission on Nvidia Blackwell AI Chip**\\n\\nYour essay on the Nvidia Blackwell AI chip is well-structured and informative, providing a comprehensive overview of the chip\\'s specifications, applications, and competitive landscape. However, there are several areas where you could enhance the depth, clarity, and overall impact of your writing. Below are detailed recommendations for improvement:\\n\\n### 1. **Length and Depth**\\n- **Recommendation**: While the essay covers key points, consider expanding on certain sections to provide more depth. For instance, the technical specifications could benefit from a more detailed explanation of how the architecture achieves its performance gains. Discussing specific technologies or methodologies used in the Blackwell chip\\'s design would add valuable insight.\\n- **Request**: Aim for a total length of 1500-2000 words to allow for a more thorough exploration of each section.\\n\\n### 2. **Technical Specifications**\\n- **Recommendation**: You mention impressive performance metrics, but it would be beneficial to include comparisons with specific benchmarks or real-world applications that illustrate these improvements. Additionally, consider explaining the significance of terms like \"bidirectional memory bandwidth\" for readers who may not be familiar with technical jargon.\\n- **Request**: Include at least one or two specific examples of benchmarks or case studies that highlight the chip\\'s performance in practical scenarios.\\n\\n### 3. **Applications of the Blackwell AI Chip**\\n- **Recommendation**: This section is strong, but it could be enhanced by providing more concrete examples of how the Blackwell chip is currently being used in the industries mentioned. For instance, citing specific companies or projects that utilize the chip would strengthen your argument.\\n- **Request**: Expand this section to include at least three detailed case studies or examples of applications in different industries.\\n\\n### 4. **Competitive Landscape**\\n- **Recommendation**: While you touch on competitors, a more detailed analysis of how the Blackwell chip compares to specific products from AMD, Intel, and Google would provide a clearer picture of its market position. Discussing the strengths and weaknesses of these competitors in relation to the Blackwell chip would add depth to your analysis.\\n- **Request**: Include a comparative table or chart that visually represents the strengths and weaknesses of the Blackwell chip versus its competitors.\\n\\n### 5. **Conclusion**\\n- **Recommendation**: The conclusion summarizes the essay well, but it could be more impactful by reiterating the broader implications of the Blackwell chip on society and technology. Consider discussing potential future trends in AI and how the Blackwell chip might influence these trends.\\n- **Request**: Expand the conclusion to include a forward-looking statement about the future of AI technology and the role of Nvidia in shaping that future.\\n\\n### 6. **Style and Clarity**\\n- **Recommendation**: While the writing is generally clear, there are instances where technical jargon may alienate readers unfamiliar with the subject. Strive for a balance between technical detail and accessibility. Consider defining key terms when they first appear.\\n- **Request**: Review the essay for clarity and conciseness, aiming to simplify complex sentences and ensure that technical terms are explained.\\n\\n### 7. **Citations and References**\\n- **Recommendation**: Ensure that you cite sources for any data, statistics, or claims made in the essay. This not only adds credibility but also allows readers to explore the topic further.\\n- **Request**: Include a references section at the end of the essay with at least five credible sources that support your claims.\\n\\n### Final Thoughts\\nOverall, your essay provides a solid foundation for discussing the Nvidia Blackwell AI chip. By incorporating these recommendations, you can enhance the depth, clarity, and overall quality of your work. I look forward to seeing your revised submission!'}}\n",
      "----------------------------------------------------------------------------------------------------\n",
      "{'research_critique': {'content': [\"NVIDIA's Blackwell GPU architecture revolutionizes AI with unparalleled performance, scalability and efficiency. Anchored by the Grace Blackwell GB200 superchip and GB200 NVL72, it boasts 30X more performance and 25X more energy efficiency over its predecessor.\", 'Blackwell’s Decompression Engine and ability to access massive amounts of memory in the NVIDIA Grace™ CPU over a high-speed link—900 gigabytes per second (GB/s) of bidirectional bandwidth—accelerate the full pipeline of database queries for the highest performance in data analytics and data science with support for the latest compression formats such as LZ4, Snappy, and Deflate.\\n Second-Generation Transformer Engine\\nThe second-generation Transformer Engine uses custom Blackwell Tensor Core technology combined with NVIDIA® TensorRT™-LLM and NeMo™ Framework innovations to accelerate inference and training for large language models (LLMs) and Mixture-of-Experts (MoE) models.\\n NVLink and NVLink Switch\\nUnlocking the full potential of exascale computing and trillion-parameter AI models hinges on the need for swift, seamless communication among every GPU within a server cluster. Breaking Barriers in Accelerated Computing and Generative AI\\nExplore the groundbreaking advancements the NVIDIA Blackwell architecture brings to generative AI and accelerated computing. The NVIDIA NVLink Switch Chip enables 130TB/s of GPU bandwidth in one 72-GPU NVLink domain (NVL72) and delivers 4X bandwidth efficiency with NVIDIA Scalable Hierarchical Aggregation and Reduction Protocol (SHARP)™ FP8 support.', 'Nvidia on Monday announced a new generation of artificial intelligence chips and software for running AI models. The new AI graphics processors are named Blackwell and are expected to ship later ...', 'GTC— Powering a new era of computing, NVIDIA today announced that the NVIDIA Blackwell platform has arrived — enabling organizations everywhere to build and run real-time generative AI on trillion-parameter large language models at up to 25x less cost and energy consumption than its predecessor. The Blackwell GPU architecture features six ...', \"Nvidia will start sending out engineering samples of its upcoming\\xa0Blackwell processors\\xa0for AI applications this week, chief executive of Nvidia Jensen Huang said at Siggraph. It is unclear whether Nvidia is beginning to sample Blackwell processors with hardware or software developers. In fact, given that Nvidia's partners among hardware makers, such as Foxconn, Quanta, Wistron, Pegatron, and Asus have demonstrated their Blackwell-based servers at Computex, they may have been playing with Blackwell processors for a while now. According to a\\xa0Morgan Stanley report, Nvidia and its partners will charge about $2 million to $3 million per AI server cabinet equipped with Blackwell GPUs. To date, Nvidia has introduced two reference server cabinets: the NVL36, with 36 B200 GPUs, priced around $2 million, and the NVL72, with 72 B200 GPUs, starting at $3 million.\", 'Explore the groundbreaking advancements the NVIDIA Blackwell architecture brings to generative AI and accelerated computing. Building upon generations of NVIDIA technologies, Blackwell defines the next chapter in generative AI with unparalleled performance, efficiency, and scale. Blackwell includes NVIDIA Confidential Computing, which protects sensitive data and AI models from unauthorized access with strong hardware-based security. Blackwell’s Decompression Engine and ability to access massive amounts of memory in the NVIDIA Grace™ CPU over a high-speed link—900 gigabytes per second (GB/s) of bidirectional bandwidth—accelerate the full pipeline of database queries for the highest performance in data analytics and data science with support for the latest compression formats such as LZ4, Snappy, and Deflate.', \"NVIDIA's Blackwell GPU architecture revolutionizes AI with unparalleled performance, scalability and efficiency. Anchored by the Grace Blackwell GB200 superchip and GB200 NVL72, it boasts 30X more performance and 25X more energy efficiency over its predecessor.\", \"NVIDIA's Blackwell architecture will have the largest chip yet, with 104 billion transistors. Blackwell GPUs (B100 & B200) adopt dual-chipset designs, representing a significant leap from Hopper. For instance, the B100 has 128 billion more transistors and five times the AI performance of the H100.\", \"Nvidia's Blackwell can deliver 3.7X - 4X higher performance than Hopper H100 processors in generative AI inferencing, according to Nvidia. That's using FP4 vs. FP8 and comparing a single B200 to ...\", \"NVIDIA's Dominance In MLPerf Inference & AI Benchmarks Solidified Further With Blackwell AI Chips, Hopper Show Even Stronger Performance Uplifts Thanks To Continued Optimizations To The CUDA Stack\", \"Accept. NVIDIA's Blackwell GPU architecture revolutionizes AI with unparalleled performance, scalability and efficiency. Anchored by the Grace Blackwell GB200 superchip and GB200 NVL72, it boasts 30X more performance and 25X more energy efficiency over its predecessor.\", \"Quantum computing. Drug discovery. Fusion energy. Scientific computing and physics-based simulations are poised to make giant steps across domains that benefit humanity as advances in accelerated computing and AI drive the world's next big breakthroughs. NVIDIA unveiled at GTC in March the NVIDIA Blackwell platform, which promises generative AI on trillion-parameter large language models ...\"]}}\n",
      "----------------------------------------------------------------------------------------------------\n",
      "{'generate': {'draft': \"**Nvidia Blackwell AI Chip: Revolutionizing the Future of Artificial Intelligence**\\n\\n**I. Introduction**\\n\\nNvidia has long been recognized as a leader in the field of artificial intelligence (AI) and computing, with a rich history of innovations that have shaped the landscape of technology. From the introduction of the first graphics processing units (GPUs) to the development of advanced AI frameworks, Nvidia has consistently pushed the boundaries of what is possible in computing. As AI continues to permeate various sectors, the demand for powerful and efficient AI chips has never been greater. In this context, the introduction of the Blackwell AI chip marks a significant milestone in Nvidia's journey, offering unprecedented performance and efficiency that promises to redefine the capabilities of AI applications.\\n\\nThe Blackwell AI chip, anchored by the Grace Blackwell GB200 superchip and GB200 NVL72, is designed to meet the growing needs of AI workloads. With its advanced architecture and innovative features, the Blackwell chip is poised to play a crucial role in the next generation of AI advancements, enabling organizations to harness the power of generative AI and large language models (LLMs) at an unprecedented scale.\\n\\n**II. Technical Specifications of the Blackwell AI Chip**\\n\\nThe Blackwell AI chip boasts a cutting-edge architecture that distinguishes it from its predecessors. Utilizing a dual-chipset design, the Blackwell GPUs (B100 and B200) incorporate 104 billion transistors, representing a significant leap in processing power. This architecture is optimized for high-performance computing, enabling the chip to deliver 30 times more performance and 25 times more energy efficiency compared to previous models like the Hopper.\\n\\nPerformance metrics for the Blackwell chip are impressive, with capabilities that include processing power measured in floating-point operations per second (FLOPS) and a memory bandwidth of 900 gigabytes per second (GB/s). These specifications allow for rapid data processing and efficient thermal management, ensuring that the chip can handle demanding AI workloads without overheating. Benchmark results indicate that the Blackwell chip can achieve 3.7 to 4 times higher performance in generative AI inferencing compared to the Hopper H100 processors, solidifying Nvidia's dominance in the AI chip market.\\n\\n**III. Applications of the Blackwell AI Chip**\\n\\nThe versatility of the Blackwell AI chip extends to various applications in machine learning and deep learning. Its ability to train large models and datasets efficiently makes it an invaluable tool for researchers and developers. Additionally, the chip's real-time inference capabilities enable organizations to deploy AI solutions that can respond to dynamic data inputs, enhancing decision-making processes across industries.\\n\\nIn healthcare, the Blackwell chip can be utilized for medical imaging and drug discovery, accelerating the development of life-saving treatments. In the automotive sector, it supports autonomous driving technologies, enabling vehicles to process vast amounts of data from sensors in real-time. The gaming and entertainment industries also benefit from the Blackwell chip's advanced graphics rendering capabilities, providing immersive experiences for users. Looking ahead, the potential for the Blackwell chip in edge computing and integration with Internet of Things (IoT) devices presents exciting opportunities for innovation and growth.\\n\\n**IV. Competitive Landscape**\\n\\nIn the competitive landscape of AI chips, Nvidia's Blackwell chip stands out against rivals such as AMD, Intel, and Google. While each competitor has its strengths and weaknesses, Nvidia's strategic advantages lie in its established market presence and continuous innovation. The Blackwell chip's superior performance metrics and energy efficiency position it favorably in the market, allowing Nvidia to maintain its leadership role in AI technology.\\n\\nHowever, the industry faces challenges, including supply chain issues and semiconductor shortages that could impact production and availability. Additionally, regulatory and ethical considerations surrounding AI development necessitate careful navigation to ensure responsible innovation. As the AI landscape evolves, Nvidia must remain vigilant in addressing these challenges while capitalizing on emerging opportunities.\\n\\n**V. Conclusion**\\n\\nIn summary, the Nvidia Blackwell AI chip represents a significant advancement in the field of artificial intelligence, offering unparalleled performance, efficiency, and scalability. Its technical specifications and diverse applications position it as a game-changer in the AI landscape, with the potential to drive innovation across various industries. As we look to the future, the Blackwell chip is set to play a pivotal role in shaping the trajectory of AI development, influencing not only technological advancements but also societal impacts. The continued evolution of advanced AI chips like Blackwell will undoubtedly play a crucial role in defining the future of technology and its integration into our daily lives.\", 'revision_number': 3}}\n",
      "----------------------------------------------------------------------------------------------------\n"
     ]
    }
   ],
   "source": [
    "thread = {'configurable': {'thread_id': '1'}}\n",
    "task = 'Nvidia  Blackwell AI chip'\n",
    "\n",
    "prompt = {\n",
    "    'task': task,\n",
    "    'max_revisions': 2,\n",
    "    'revision_number': 1,\n",
    "}\n",
    "\n",
    "events = graph.stream(prompt, thread)\n",
    "for e in events:\n",
    "    print(e)\n",
    "    print('-' * 100)"
   ]
  },
  {
   "cell_type": "code",
   "execution_count": 17,
   "id": "e1e91ddb-7f9a-4f05-b9fb-d02b57fe4278",
   "metadata": {},
   "outputs": [
    {
     "name": "stdout",
     "output_type": "stream",
     "text": [
      "**Nvidia Blackwell AI Chip: Revolutionizing the Future of Artificial Intelligence**\n",
      "\n",
      "**I. Introduction**\n",
      "\n",
      "Nvidia has long been recognized as a leader in the field of artificial intelligence (AI) and computing, with a rich history of innovations that have shaped the landscape of technology. From the introduction of the first graphics processing units (GPUs) to the development of advanced AI frameworks, Nvidia has consistently pushed the boundaries of what is possible in computing. As AI continues to permeate various sectors, the demand for powerful and efficient AI chips has never been greater. In this context, the introduction of the Blackwell AI chip marks a significant milestone in Nvidia's journey, offering unprecedented performance and efficiency that promises to redefine the capabilities of AI applications.\n",
      "\n",
      "The Blackwell AI chip, anchored by the Grace Blackwell GB200 superchip and GB200 NVL72, is designed to meet the growing needs of AI workloads. With its advanced architecture and innovative features, the Blackwell chip is poised to play a crucial role in the next generation of AI advancements, enabling organizations to harness the power of generative AI and large language models (LLMs) at an unprecedented scale.\n",
      "\n",
      "**II. Technical Specifications of the Blackwell AI Chip**\n",
      "\n",
      "The Blackwell AI chip boasts a cutting-edge architecture that distinguishes it from its predecessors. Utilizing a dual-chipset design, the Blackwell GPUs (B100 and B200) incorporate 104 billion transistors, representing a significant leap in processing power. This architecture is optimized for high-performance computing, enabling the chip to deliver 30 times more performance and 25 times more energy efficiency compared to previous models like the Hopper.\n",
      "\n",
      "Performance metrics for the Blackwell chip are impressive, with capabilities that include processing power measured in floating-point operations per second (FLOPS) and a memory bandwidth of 900 gigabytes per second (GB/s). These specifications allow for rapid data processing and efficient thermal management, ensuring that the chip can handle demanding AI workloads without overheating. Benchmark results indicate that the Blackwell chip can achieve 3.7 to 4 times higher performance in generative AI inferencing compared to the Hopper H100 processors, solidifying Nvidia's dominance in the AI chip market.\n",
      "\n",
      "**III. Applications of the Blackwell AI Chip**\n",
      "\n",
      "The versatility of the Blackwell AI chip extends to various applications in machine learning and deep learning. Its ability to train large models and datasets efficiently makes it an invaluable tool for researchers and developers. Additionally, the chip's real-time inference capabilities enable organizations to deploy AI solutions that can respond to dynamic data inputs, enhancing decision-making processes across industries.\n",
      "\n",
      "In healthcare, the Blackwell chip can be utilized for medical imaging and drug discovery, accelerating the development of life-saving treatments. In the automotive sector, it supports autonomous driving technologies, enabling vehicles to process vast amounts of data from sensors in real-time. The gaming and entertainment industries also benefit from the Blackwell chip's advanced graphics rendering capabilities, providing immersive experiences for users. Looking ahead, the potential for the Blackwell chip in edge computing and integration with Internet of Things (IoT) devices presents exciting opportunities for innovation and growth.\n",
      "\n",
      "**IV. Competitive Landscape**\n",
      "\n",
      "In the competitive landscape of AI chips, Nvidia's Blackwell chip stands out against rivals such as AMD, Intel, and Google. While each competitor has its strengths and weaknesses, Nvidia's strategic advantages lie in its established market presence and continuous innovation. The Blackwell chip's superior performance metrics and energy efficiency position it favorably in the market, allowing Nvidia to maintain its leadership role in AI technology.\n",
      "\n",
      "However, the industry faces challenges, including supply chain issues and semiconductor shortages that could impact production and availability. Additionally, regulatory and ethical considerations surrounding AI development necessitate careful navigation to ensure responsible innovation. As the AI landscape evolves, Nvidia must remain vigilant in addressing these challenges while capitalizing on emerging opportunities.\n",
      "\n",
      "**V. Conclusion**\n",
      "\n",
      "In summary, the Nvidia Blackwell AI chip represents a significant advancement in the field of artificial intelligence, offering unparalleled performance, efficiency, and scalability. Its technical specifications and diverse applications position it as a game-changer in the AI landscape, with the potential to drive innovation across various industries. As we look to the future, the Blackwell chip is set to play a pivotal role in shaping the trajectory of AI development, influencing not only technological advancements but also societal impacts. The continued evolution of advanced AI chips like Blackwell will undoubtedly play a crucial role in defining the future of technology and its integration into our daily lives.\n"
     ]
    }
   ],
   "source": [
    "print(e['generate']['draft'])"
   ]
  },
  {
   "cell_type": "code",
   "execution_count": null,
   "id": "fcecc8b9-a532-4c64-8c75-e586dd3d2f03",
   "metadata": {},
   "outputs": [],
   "source": []
  }
 ],
 "metadata": {
  "kernelspec": {
   "display_name": "Python 3 (ipykernel)",
   "language": "python",
   "name": "python3"
  },
  "language_info": {
   "codemirror_mode": {
    "name": "ipython",
    "version": 3
   },
   "file_extension": ".py",
   "mimetype": "text/x-python",
   "name": "python",
   "nbconvert_exporter": "python",
   "pygments_lexer": "ipython3",
   "version": "3.11.10"
  },
  "widgets": {
   "application/vnd.jupyter.widget-state+json": {
    "state": {},
    "version_major": 2,
    "version_minor": 0
   }
  }
 },
 "nbformat": 4,
 "nbformat_minor": 5
}
