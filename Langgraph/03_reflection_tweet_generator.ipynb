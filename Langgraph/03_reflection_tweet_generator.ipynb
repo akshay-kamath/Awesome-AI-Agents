{
 "cells": [
  {
   "cell_type": "markdown",
   "id": "63f92cef-de50-4f5a-a4c2-8b1420428383",
   "metadata": {},
   "source": [
    "# Reflection with LangChain (Tweet Generator)"
   ]
  },
  {
   "cell_type": "code",
   "execution_count": 1,
   "id": "aca2eb70-fb8f-4145-9a8c-c2cad74f1cee",
   "metadata": {},
   "outputs": [
    {
     "name": "stdout",
     "output_type": "stream",
     "text": [
      "Note: you may need to restart the kernel to use updated packages.\n"
     ]
    }
   ],
   "source": [
    "pip install --upgrade -q openai langchain langchain-openai langchain-community langgraph"
   ]
  },
  {
   "cell_type": "markdown",
   "id": "9af2aaf6-a0be-47e6-be57-0827c79df3ae",
   "metadata": {},
   "source": [
    "## Generate"
   ]
  },
  {
   "cell_type": "code",
   "execution_count": 2,
   "id": "9550385e-3137-4fb5-bc17-2aed2933ef59",
   "metadata": {},
   "outputs": [
    {
     "data": {
      "text/plain": [
       "True"
      ]
     },
     "execution_count": 2,
     "metadata": {},
     "output_type": "execute_result"
    }
   ],
   "source": [
    "# loading the API keys\n",
    "from dotenv import load_dotenv, find_dotenv\n",
    "load_dotenv(find_dotenv(), override=True)"
   ]
  },
  {
   "cell_type": "code",
   "execution_count": 4,
   "id": "a1cdae92-3b46-4999-bba9-8befdf168a84",
   "metadata": {},
   "outputs": [],
   "source": [
    "# importing the necessary libraries\n",
    "from langchain_core.messages import AIMessage, BaseMessage, HumanMessage\n",
    "from langchain_core.prompts import ChatPromptTemplate, MessagesPlaceholder\n",
    "from langchain_openai import ChatOpenAI"
   ]
  },
  {
   "cell_type": "code",
   "execution_count": 5,
   "id": "d93012a9-6085-4d4f-b710-df72fcafd2f0",
   "metadata": {},
   "outputs": [],
   "source": [
    "# creating a chat prompt template\n",
    "generation_prompt = ChatPromptTemplate.from_messages(\n",
    "    [\n",
    "        (\n",
    "            'system',\n",
    "            '''You are a Twitter expert assigned to craft outstanding tweets.\n",
    "            Generate the most engaging and impactful tweet possible based on the user's request.\n",
    "            If the user provides feedback, refine and enhance your previous attempts accordingly for maximum engagement.''',\n",
    "        ),\n",
    "        MessagesPlaceholder(variable_name='messages'),\n",
    "    ]\n",
    ")\n",
    "\n",
    "llm = ChatOpenAI(model_name='gpt-4o-mini', temperature=0.7)\n",
    "\n",
    "# using LCEL to create the generate_chain\n",
    "generate_chain  = generation_prompt | llm"
   ]
  },
  {
   "cell_type": "code",
   "execution_count": 6,
   "id": "a51870e7-0621-47cd-9cfe-5fd0d6aef4c7",
   "metadata": {},
   "outputs": [
    {
     "data": {
      "text/plain": [
       "ChatPromptTemplate(input_variables=['messages'], input_types={'messages': typing.List[typing.Union[langchain_core.messages.ai.AIMessage, langchain_core.messages.human.HumanMessage, langchain_core.messages.chat.ChatMessage, langchain_core.messages.system.SystemMessage, langchain_core.messages.function.FunctionMessage, langchain_core.messages.tool.ToolMessage]]}, messages=[SystemMessagePromptTemplate(prompt=PromptTemplate(input_variables=[], template=\"You are a Twitter expert assigned to craft outstanding tweets.\\n            Generate the most engaging and impactful tweet possible based on the user's request.\\n            If the user provides feedback, refine and enhance your previous attempts accordingly for maximum engagement.\")), MessagesPlaceholder(variable_name='messages')])\n",
       "| ChatOpenAI(client=<openai.resources.chat.completions.Completions object at 0x000001656B01BD70>, async_client=<openai.resources.chat.completions.AsyncCompletions object at 0x000001656B0491F0>, model_name='gpt-4o-mini', openai_api_key=SecretStr('**********'), openai_proxy='')"
      ]
     },
     "execution_count": 6,
     "metadata": {},
     "output_type": "execute_result"
    }
   ],
   "source": [
    "generate_chain"
   ]
  },
  {
   "cell_type": "code",
   "execution_count": 6,
   "id": "a7522f7a-2126-4189-afba-3c16dc2a67c0",
   "metadata": {},
   "outputs": [
    {
     "name": "stdout",
     "output_type": "stream",
     "text": [
      "🌍⚽️ The countdown to FIFA World Cup 2026 has begun! 🏆 Get ready to unite under one banner as the world’s best teams battle it out across the USA, Canada, and Mexico! 🇺🇸🇨🇦🇲🇽 Who are you rooting for? Let the games begin! #FIFAWorldCup2026 #FootballFever #RoadTo2026"
     ]
    }
   ],
   "source": [
    "tweet = ''\n",
    "request = HumanMessage(\n",
    "    content='FIFA World Cup 26'\n",
    ")\n",
    "\n",
    "for chunk in generate_chain.stream(\n",
    "    {'messages': [request]}\n",
    "): \n",
    "    print(chunk.content, end='')\n",
    "    tweet += chunk.content"
   ]
  },
  {
   "cell_type": "markdown",
   "id": "d18746ad-08e9-4a61-863e-a79866a2abc9",
   "metadata": {},
   "source": [
    "## Reflect and Repeat"
   ]
  },
  {
   "cell_type": "code",
   "execution_count": 7,
   "id": "0626a4da-eb2f-48b8-b3aa-6855a29ad83a",
   "metadata": {},
   "outputs": [],
   "source": [
    "reflection_prompt = ChatPromptTemplate.from_messages(\n",
    "    [\n",
    "        (\n",
    "            'system',\n",
    "            '''You are a Twitter influencer known for your engaging content and sharp insights.\n",
    "            Review and critique the user’s tweet.\n",
    "            Provide constructive feedback, focusing on enhancing its depth, style, and overall impact.\n",
    "            Offer specific suggestions to make the tweet more compelling and engaging for their audience.'''\n",
    "        ),\n",
    "        MessagesPlaceholder(variable_name='messages'),\n",
    "    ]\n",
    ")\n",
    "\n",
    "reflect_chain  = reflection_prompt | llm"
   ]
  },
  {
   "cell_type": "code",
   "execution_count": 8,
   "id": "109e3d64-4cfc-4d18-8346-71b658c78300",
   "metadata": {},
   "outputs": [
    {
     "data": {
      "text/plain": [
       "ChatPromptTemplate(input_variables=['messages'], input_types={'messages': typing.List[typing.Union[langchain_core.messages.ai.AIMessage, langchain_core.messages.human.HumanMessage, langchain_core.messages.chat.ChatMessage, langchain_core.messages.system.SystemMessage, langchain_core.messages.function.FunctionMessage, langchain_core.messages.tool.ToolMessage]]}, messages=[SystemMessagePromptTemplate(prompt=PromptTemplate(input_variables=[], template='You are a Twitter influencer known for your engaging content and sharp insights.\\n            Review and critique the user’s tweet.\\n            Provide constructive feedback, focusing on enhancing its depth, style, and overall impact.\\n            Offer specific suggestions to make the tweet more compelling and engaging for their audience.')), MessagesPlaceholder(variable_name='messages')])\n",
       "| ChatOpenAI(client=<openai.resources.chat.completions.Completions object at 0x0000026002FC8680>, async_client=<openai.resources.chat.completions.AsyncCompletions object at 0x0000026002FC99A0>, model_name='gpt-4o-mini', openai_api_key=SecretStr('**********'), openai_proxy='')"
      ]
     },
     "execution_count": 8,
     "metadata": {},
     "output_type": "execute_result"
    }
   ],
   "source": [
    "reflect_chain"
   ]
  },
  {
   "cell_type": "code",
   "execution_count": 9,
   "id": "c8751901-df39-418a-83e8-ed2f70870af1",
   "metadata": {
    "scrolled": true
   },
   "outputs": [
    {
     "name": "stdout",
     "output_type": "stream",
     "text": [
      "Your tweet does a great job of capturing the excitement surrounding the FIFA World Cup 2026! The use of emojis adds a fun visual element, and your enthusiasm is infectious. However, to enhance its depth and overall impact, consider the following suggestions:\n",
      "\n",
      "1. **Add a Unique Insight or Statistic**: Mentioning something specific about the World Cup, like its historical significance or a fun fact (e.g., \"This will be the first time the tournament is hosted by three countries!\") can provide depth and make your tweet stand out.\n",
      "\n",
      "2. **Engage with a Question**: Instead of a general \"Who are you rooting for?\" consider asking a more specific question that encourages discussion, like \"Which team do you think will surprise us this year?\" or \"What is your favorite World Cup memory?\" This invites more interaction from your audience.\n",
      "\n",
      "3. **Personal Touch**: Share your own team preference or a personal anecdote related to the World Cup. For example, \"As a lifelong fan of [your favorite team], I can't wait to see them in action. What about you?\"\n",
      "\n",
      "4. **Call to Action**: Encourage your followers to share their thoughts or predictions. For example, \"Drop your predictions below! 🗳️\"\n",
      "\n",
      "Here’s how you might rewrite your tweet:\n",
      "\n",
      "🌍⚽️ The countdown to FIFA World Cup 2026 has begun! 🏆 This will be the first time the tournament is hosted by the USA, Canada, and Mexico! 🇺🇸🇨🇦🇲🇽 As a lifelong [your favorite team] fan, I'm excited to see how they'll perform! Who do you think will surprise us this year? Drop your predictions below! #FIFAWorldCup2026 #FootballFever #RoadTo2026\n",
      "\n",
      "This version maintains your original excitement but adds depth and encourages engagement, making it more compelling for your audience."
     ]
    }
   ],
   "source": [
    "reflection = ''\n",
    "# streaming the response\n",
    "for chunk in reflect_chain.stream(\n",
    "    {'messages': [request, HumanMessage(content=tweet)]}\n",
    "):\n",
    "    print(chunk.content, end='')\n",
    "    reflection += chunk.content\n"
   ]
  },
  {
   "cell_type": "code",
   "execution_count": 10,
   "id": "a9c72c62-0159-4ad5-b614-153d1a3c834c",
   "metadata": {},
   "outputs": [
    {
     "name": "stdout",
     "output_type": "stream",
     "text": [
      "🌍⚽️ The countdown to FIFA World Cup 2026 has officially begun! 🏆 Did you know this will be the first time the tournament is hosted by three countries: the USA, Canada, and Mexico? 🇺🇸🇨🇦🇲🇽 As a lifelong fan of [your favorite team], I can’t wait to see them shine on this grand stage! ✨ Which team do you think will surprise us this year? Drop your predictions below! 🗳️ #FIFAWorldCup2026 #FootballFever #RoadTo2026"
     ]
    }
   ],
   "source": [
    "for chunk in generate_chain.stream(\n",
    "    {'messages': [request, AIMessage(content=tweet), HumanMessage(content=reflection)]}\n",
    "):\n",
    "    print(chunk.content, end='')"
   ]
  },
  {
   "cell_type": "markdown",
   "id": "2550062d-3089-438b-9aba-144c24f2d589",
   "metadata": {},
   "source": [
    "## Define the Graph"
   ]
  },
  {
   "cell_type": "code",
   "execution_count": 8,
   "id": "d7e055be-260d-4467-b2f1-84f37a2c83f6",
   "metadata": {},
   "outputs": [],
   "source": [
    "from typing import List, Sequence\n",
    "from langgraph.graph import END, MessageGraph"
   ]
  },
  {
   "cell_type": "code",
   "execution_count": 9,
   "id": "cf208506-04d4-4c32-99b3-1d6019165c55",
   "metadata": {},
   "outputs": [],
   "source": [
    "# defining a function for the generation node\n",
    "def generation_node(state: Sequence[BaseMessage]):\n",
    "    return generate_chain.invoke({'messages': state})\n",
    "\n",
    "# defining a function for the reflection node\n",
    "def reflection_node(messages: Sequence[BaseMessage]) -> List[BaseMessage]:\n",
    "    # messages we need to adjust\n",
    "    cls_map = {'ai': HumanMessage, 'human': AIMessage}\n",
    "    # First message is the original user request. We keep it the same for all nodes\n",
    "    translated = [messages[0]] + [\n",
    "    cls_map[msg.type](content=msg.content) for msg in messages[1:]\n",
    "    ]\n",
    "    res = reflect_chain.invoke({'messages': translated})\n",
    "    # We treat the output (AI message) of this as human feedback for the generator\n",
    "    return HumanMessage(content=res.content)\n",
    "\n",
    "# initializing the MessageGraph and adding two nodes to the graph: generate and reflect.\n",
    "builder = MessageGraph()\n",
    "builder.add_node('generate', generation_node)\n",
    "builder.add_node('reflect', reflection_node)\n",
    "\n",
    "# setting the generate node as the starting point\n",
    "builder.set_entry_point('generate')\n",
    "\n",
    "MAX_ITERATIONS = 5\n",
    "def should_continue(state: List[BaseMessage]):\n",
    "    if len(state) > MAX_ITERATIONS:\n",
    "        return END\n",
    "    return 'reflect'\n",
    "\n",
    "# adding a conditional edge to the graph\n",
    "builder.add_conditional_edges('generate', should_continue)\n",
    "builder.add_edge('reflect', 'generate')\n",
    "\n",
    "# compiling the graph\n",
    "graph = builder.compile()"
   ]
  },
  {
   "cell_type": "code",
   "execution_count": 13,
   "id": "ec773153-9fa2-4586-9d0d-6995a41d56f9",
   "metadata": {},
   "outputs": [
    {
     "data": {
      "image/jpeg": "[encoded data removed]",
      "text/plain": [
       "<IPython.core.display.Image object>"
      ]
     },
     "metadata": {},
     "output_type": "display_data"
    }
   ],
   "source": [
    "from IPython.display import Image, display\n",
    "display(Image(graph.get_graph().draw_mermaid_png()))"
   ]
  },
  {
   "cell_type": "markdown",
   "id": "465e0324-734f-4b98-99b8-dd2f052a3a78",
   "metadata": {},
   "source": [
    "## Running the App"
   ]
  },
  {
   "cell_type": "code",
   "execution_count": 10,
   "id": "157ca9e2-5081-4ac9-8d8e-d4d4293b17d5",
   "metadata": {},
   "outputs": [],
   "source": [
    "inputs = HumanMessage(content='Generate a tweed about FIFA World Cup 26')\n",
    "response = graph.invoke(inputs)"
   ]
  },
  {
   "cell_type": "code",
   "execution_count": 11,
   "id": "d1babb43-265a-418a-9ef3-9508a435c525",
   "metadata": {},
   "outputs": [
    {
     "name": "stdout",
     "output_type": "stream",
     "text": [
      "Generate a tweed about FIFA World Cup 26\n",
      "\n",
      "----------------------------------------------------------------------------------------------------\n",
      "\n",
      "🌍⚽️ Excitement is building for #FIFAWorldCup2026! 🏆 With matches spanning across the USA, Canada, and Mexico, it’s a historic celebration of soccer! 🇺🇸🇨🇦🇲🇽 Who are you rooting for? Let’s kick off the countdown and unite as one global fanbase! 🌟 #WorldCup2026 #SoccerUnites\n",
      "\n",
      "----------------------------------------------------------------------------------------------------\n",
      "\n",
      "This tweet captures the excitement surrounding the FIFA World Cup 2026 well, but there are ways to enhance its depth, style, and overall impact. Here’s a critique and some suggestions for improvement:\n",
      "\n",
      "### Critique:\n",
      "1. **Depth**: The tweet could benefit from including more specifics about what makes this World Cup historic, such as the inclusion of more teams or the significance of it being held in three countries.\n",
      "   \n",
      "2. **Engagement**: While asking who the audience is rooting for is a good start, you could invite more interaction by asking followers to share their predictions or favorite players.\n",
      "\n",
      "3. **Visual Elements**: Emojis are effective, but consider using them strategically to emphasize key points without overwhelming the message.\n",
      "\n",
      "### Suggestions for Improvement:\n",
      "1. **Add Specifics**: Consider mentioning the expansion to 48 teams or the first time the tournament is hosted by three nations. This adds context and significance to your tweet.\n",
      "   \n",
      "   Example: \"🌍⚽️ The countdown to #FIFAWorldCup2026 is on! 🏆 For the first time, 48 teams will battle it out across the USA, Canada, and Mexico! 🇺🇸🇨🇦🇲🇽 Who are you backing? Share your favorite players or bold predictions! Let’s unite as one global fanbase and celebrate the beautiful game! 🌟 #WorldCup2026 #SoccerUnites\"\n",
      "\n",
      "2. **Use a Poll or Question**: To increase engagement, you might consider using a poll feature if available, or posing a more specific question that encourages responses.\n",
      "\n",
      "3. **Tone and Style**: You can incorporate a more conversational tone to make it feel relatable and personal. Using hashtags that connect to current soccer events or popular players might also enhance visibility.\n",
      "\n",
      "### Revised Tweet Example:\n",
      "\"🌍⚽️ The excitement for #FIFAWorldCup2026 is palpable! 🏆 With 48 teams competing across the USA, Canada, and Mexico for the first time ever, this is a historic moment for soccer! 🇺🇸🇨🇦🇲🇽 Who are you rooting for? 🤔 Share your predictions or your favorite players below! Let’s unite as one global fanbase and make this a celebration to remember! 🎉⚽️ #WorldCup2026 #SoccerUnites\"\n",
      "\n",
      "By implementing these changes, your tweet can become more engaging and impactful, encouraging greater interaction and excitement among your followers!\n",
      "\n",
      "----------------------------------------------------------------------------------------------------\n",
      "\n",
      "🌍⚽️ The excitement for #FIFAWorldCup2026 is palpable! 🏆 For the first time ever, 48 teams will battle it out across the USA, Canada, and Mexico! 🇺🇸🇨🇦🇲🇽 Who are you rooting for? 🤔 Drop your predictions or favorite players below! Let’s unite as one global fanbase and make this a celebration to remember! 🎉⚽️ #WorldCup2026 #SoccerUnites\n",
      "\n",
      "----------------------------------------------------------------------------------------------------\n",
      "\n",
      "This revised tweet is looking great! You've successfully incorporated suggestions that enhance its depth and engagement, making it more compelling for your audience. Here are some additional critiques and suggestions to further refine it:\n",
      "\n",
      "### Strengths:\n",
      "1. **Clarity and Depth**: By mentioning the 48 teams and the three host countries, you've added significant context that highlights the importance of this World Cup.\n",
      "2. **Engagement**: The call to action (\"Drop your predictions or favorite players below!\") effectively invites interaction, encouraging followers to engage with your tweet.\n",
      "3. **Tone**: The tone is friendly and enthusiastic, which is perfect for a sports-related tweet.\n",
      "\n",
      "### Suggestions for Further Improvement:\n",
      "1. **Add a Fun Fact or Trivia**: Including a unique fact about past World Cups or the host nation's soccer culture can make the tweet even more engaging and informative.\n",
      "   \n",
      "   Example: \"Did you know the USA hosted the Women’s World Cup in 1999? Let’s keep that spirit alive!\"\n",
      "\n",
      "2. **Use of Hashtags**: While you have strong hashtags, consider adding a few more that are currently trending in the soccer community or related to exciting players or teams.\n",
      "\n",
      "3. **Visual Content**: If possible, consider pairing the tweet with an eye-catching image or GIF related to the World Cup. Visuals can significantly boost engagement.\n",
      "\n",
      "### Slightly Enhanced Version:\n",
      "\"🌍⚽️ The excitement for #FIFAWorldCup2026 is palpable! 🏆 For the first time ever, 48 teams will battle it out across the USA, Canada, and Mexico! 🇺🇸🇨🇦🇲🇽 Fun fact: This will be the first World Cup hosted by three nations! 🎉 Who are you rooting for? 🤔 Drop your predictions or favorite players below! Let’s unite as one global fanbase and make this a celebration to remember! 🎉⚽️ #WorldCup2026 #SoccerUnites #FootballFever\"\n",
      "\n",
      "This version keeps the engaging elements intact while adding a fun fact to spark interest and conversation. Overall, you're on the right track, and with these tweaks, your tweet can have an even greater impact!\n",
      "\n",
      "----------------------------------------------------------------------------------------------------\n",
      "\n",
      "🌍⚽️ The excitement for #FIFAWorldCup2026 is palpable! 🏆 For the first time ever, 48 teams will battle it out across the USA, Canada, and Mexico! 🇺🇸🇨🇦🇲🇽 Fun fact: This will be the first World Cup hosted by three nations! 🎉 Who are you rooting for? 🤔 Drop your predictions or favorite players below! Let’s unite as one global fanbase and make this a celebration to remember! 🎉⚽️ #WorldCup2026 #SoccerUnites #FootballFever\n",
      "\n",
      "----------------------------------------------------------------------------------------------------\n",
      "\n"
     ]
    }
   ],
   "source": [
    "for resp in response:\n",
    "    print(resp.content)\n",
    "    print('\\n' + '-' * 100 + '\\n')"
   ]
  },
  {
   "cell_type": "code",
   "execution_count": 1,
   "id": "3f887487-1d05-4791-986f-6b7a528d8ce9",
   "metadata": {},
   "outputs": [
    {
     "name": "stdout",
     "output_type": "stream",
     "text": [
      "Note: you may need to restart the kernel to use updated packages.\n"
     ]
    }
   ],
   "source": [
    "pip install -q langsmith"
   ]
  },
  {
   "cell_type": "code",
   "execution_count": null,
   "id": "e32adc5b-00f3-468d-8f52-a3206df9ebae",
   "metadata": {},
   "outputs": [],
   "source": []
  }
 ],
 "metadata": {
  "kernelspec": {
   "display_name": "Python 3 (ipykernel)",
   "language": "python",
   "name": "python3"
  },
  "language_info": {
   "codemirror_mode": {
    "name": "ipython",
    "version": 3
   },
   "file_extension": ".py",
   "mimetype": "text/x-python",
   "name": "python",
   "nbconvert_exporter": "python",
   "pygments_lexer": "ipython3",
   "version": "3.11.9"
  },
  "widgets": {
   "application/vnd.jupyter.widget-state+json": {
    "state": {},
    "version_major": 2,
    "version_minor": 0
   }
  }
 },
 "nbformat": 4,
 "nbformat_minor": 5
}
