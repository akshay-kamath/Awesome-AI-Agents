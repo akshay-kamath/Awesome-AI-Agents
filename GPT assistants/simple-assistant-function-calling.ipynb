{
 "cells": [
  {
   "cell_type": "code",
   "execution_count": 2,
   "metadata": {},
   "outputs": [],
   "source": [
    "import os\n",
    "from serpapi import GoogleSearch\n",
    "\n",
    "serpapi_params = {\n",
    "    \"api_key\": os.getenv(\"SERPAPI_KEY\"),\n",
    "}\n",
    "\n",
    "def web_search(query):\n",
    "    \"\"\"\n",
    "    Perform a web search using the SerpAPI Google Search API.\n",
    "    \"\"\"\n",
    "    search = GoogleSearch({\n",
    "        **serpapi_params,\n",
    "        \"q\": query,\n",
    "        \"num\": 5\n",
    "    })\n",
    "\n",
    "    return search.get_dict()[\"organic_results\"]\n",
    "\n",
    "\n",
    "output_search = web_search(\"What are the top 3 hikes Ireland that take less than 6 hours?\")"
   ]
  },
  {
   "cell_type": "code",
   "execution_count": 4,
   "metadata": {},
   "outputs": [
    {
     "data": {
      "text/plain": [
       "'1. Torc Waterfall Trail · #1 - Torc Waterfall Trail · 4.7 ; 2. Lower Diamond Hill (Blue Route). #2 - Lower Diamond Hill (Blue Route) · 4.7 ; 3. Ballinastoe Wood.'"
      ]
     },
     "execution_count": 4,
     "metadata": {},
     "output_type": "execute_result"
    }
   ],
   "source": [
    "output_search[0][\"snippet\"]"
   ]
  },
  {
   "cell_type": "code",
   "execution_count": 5,
   "metadata": {},
   "outputs": [
    {
     "data": {
      "text/plain": [
       "\"Title: 10 Best short trails in Ireland\\nURL: https://www.alltrails.com/ireland/short\\nSnippet: 1. Torc Waterfall Trail · #1 - Torc Waterfall Trail · 4.7 ; 2. Lower Diamond Hill (Blue Route). #2 - Lower Diamond Hill (Blue Route) · 4.7 ; 3. Ballinastoe Wood.\\n\\nTitle: Ireland's Top 10 Scenic Hikes for Beginners\\nURL: https://blog.irishtourism.com/2024/06/06/irelands-top-10-scenic-hikes-for-beginners/\\nSnippet: Torc Waterfall Walk, Killarney National Park, County Kerry · Lower Diamond Hill, near Letterfrack village, Connemara National Park, County Galway.\\n\\nTitle: Ireland's Ancient East – 10 day-hikes to explore in the region\\nURL: https://blog.hiiker.app/2021/11/25/irelands-ancient-east-10-day-hikes-to-explore-in-the-region/\\nSnippet: Ireland's Ancient East – 10 day-hikes to explore in the region · 1. Tonelagee (Lough Ouler), Co. Wicklow · 2. Mullaghcleevaun & Cleevaun Lough, Co ...\\n\\nTitle: Ultimate Guide to Multi-Day Walks in Ireland\\nURL: https://www.kimkim.com/c/ultimate-guide-to-multi-day-walks-in-ireland\\nSnippet: The famous eight-day Ring of Kerry circuit takes hikers around the stunning cliffs, hidden beaches, and quaint towns of Ireland's Wild Atlantic Way.\\n\\nTitle: 3 Days of Hiking - Recommendations Please! - Ireland Forum\\nURL: https://www.tripadvisor.com/ShowTopic-g186591-i88-k10386319-3_Days_of_Hiking_Recommendations_Please-Ireland.html\\nSnippet: I'd stick with the Wicklow Way if I were you. Never more than a half hour without company. http://www.wicklowway.com/.\\n\""
      ]
     },
     "execution_count": 5,
     "metadata": {},
     "output_type": "execute_result"
    }
   ],
   "source": [
    "def format_search_results(search_results):\n",
    "    \"\"\"\n",
    "    Processes the search results and returns a formatted string containing\n",
    "    the title, url, and snippet for each resource, separated by skipping lines.\n",
    "    \"\"\"\n",
    "    formatted_results = []\n",
    "    for result in search_results:\n",
    "        title = result.get('title', 'No title')\n",
    "        url = result.get('link', 'No URL')\n",
    "        snippet = result.get('snippet', 'No snippet')\n",
    "        formatted_results.append(f\"Title: {title}\\nURL: {url}\\nSnippet: {snippet}\\n\")\n",
    "\n",
    "    return \"\\n\".join(formatted_results)\n",
    "\n",
    "\n",
    "formatted_search_results = format_search_results(output_search)\n",
    "formatted_search_results"
   ]
  },
  {
   "cell_type": "code",
   "execution_count": 23,
   "metadata": {},
   "outputs": [],
   "source": [
    "def search_tool(query):\n",
    "    \"\"\"\n",
    "    Search the web for information on a given topic and return a formatted string\n",
    "    containing the title, url, and snippet for each resource.\n",
    "    \"\"\"\n",
    "    return format_search_results(web_search(query))\n"
   ]
  },
  {
   "cell_type": "code",
   "execution_count": 28,
   "metadata": {},
   "outputs": [
    {
     "data": {
      "text/plain": [
       "'asst_C2YRbEAw5hybBhAc2dsd2drU'"
      ]
     },
     "execution_count": 28,
     "metadata": {},
     "output_type": "execute_result"
    }
   ],
   "source": [
    "from openai import OpenAI\n",
    "\n",
    "client = OpenAI()\n",
    "\n",
    "my_assistant = client.beta.assistants.create(\n",
    "    instructions=\"You are a web research assistant. You ALWAYS use the search tool to search the web and create an organized markdown style reports for any topic.\",\n",
    "    model=\"gpt-4o\",\n",
    "    name=\"Web Research Assistant\",\n",
    "    tools=[\n",
    "        {\n",
    "            \"type\": \"function\",\n",
    "            \"function\": {\n",
    "                \"name\": \"search_tool\",\n",
    "                \"description\": \"Search the web for information on a given topic\",\n",
    "                \"parameters\": {\n",
    "                    \"type\": \"object\",\n",
    "                    \"properties\": {\n",
    "                        \"query\": {\n",
    "                            \"type\": \"string\",\n",
    "                            \"description\": \"The query to search the web for\"\n",
    "                        }\n",
    "                    },\n",
    "                    \"required\": [\"query\"]\n",
    "                }\n",
    "            }\n",
    "        },\n",
    "        {\"type\": \"code_interpreter\"},\n",
    "        {\"type\": \"file_search\"}\n",
    "    ]\n",
    ")\n",
    "\n",
    "my_assistant.id"
   ]
  },
  {
   "cell_type": "code",
   "execution_count": 37,
   "metadata": {},
   "outputs": [
    {
     "data": {
      "text/plain": [
       "'Search online for the top 5 activities to do in Ireland.'"
      ]
     },
     "execution_count": 37,
     "metadata": {},
     "output_type": "execute_result"
    }
   ],
   "source": [
    "thread = client.beta.threads.create()\n",
    "message= client.beta.threads.messages.create(\n",
    "    thread_id=thread.id,\n",
    "    role=\"user\",\n",
    "    content=\"Search online for the top 5 activities to do in Ireland.\"\n",
    ")\n",
    "\n",
    "message.content[0].text.value"
   ]
  },
  {
   "cell_type": "code",
   "execution_count": 38,
   "metadata": {},
   "outputs": [
    {
     "name": "stdout",
     "output_type": "stream",
     "text": [
      "Tool outputs submitted successfully.\n",
      "SyncCursorPage[Message](data=[Message(id='msg_VVl8R6I3OiPp2BgwJF8wLFIh', assistant_id='asst_C2YRbEAw5hybBhAc2dsd2drU', attachments=[], completed_at=None, content=[TextContentBlock(text=Text(annotations=[], value=\"Here are some top activities to do in Ireland based on popular travel resources:\\n\\n1. **Visit Kilmainham Gaol Museum**: Discover Irish history at this historic jail in Dublin, which has played a significant role in the country's path to independence .\\n\\n2. **Explore the Guinness Storehouse**: Learn about Ireland's most famous beer at this immersive museum located at St. James's Gate Brewery in Dublin .\\n\\n3. **Travel the Ring of Kerry**: Experience breathtaking landscapes and picturesque towns along this famous scenic drive in County Kerry .\\n\\n4. **Discover Yeats Country**: Visit the areas associated with the famous poet W.B. Yeats, particularly around Sligo, known for its beautiful landscapes .\\n\\n5. **Experience the Wild Atlantic Way**: Enjoy the stunning coastline of Ireland with activities such as swimming, hiking, and visiting quaint towns along this spectacular route .\\n\\nThese activities offer a mix of cultural, historical, and natural experiences that showcase the diversity of Ireland.\"), type='text')], created_at=1736699086, incomplete_at=None, incomplete_details=None, metadata={}, object='thread.message', role='assistant', run_id='run_uQVcKgslr5wByINDsHmh2OBX', status=None, thread_id='thread_SaX44Ah98o2PGiWZDCmDhy9M'), Message(id='msg_ezzAK1Bkq6IHiGhzao504k6W', assistant_id=None, attachments=[], completed_at=None, content=[TextContentBlock(text=Text(annotations=[], value='Search online for the top 5 activities to do in Ireland.'), type='text')], created_at=1736699078, incomplete_at=None, incomplete_details=None, metadata={}, object='thread.message', role='user', run_id=None, status=None, thread_id='thread_SaX44Ah98o2PGiWZDCmDhy9M')], object='list', first_id='msg_VVl8R6I3OiPp2BgwJF8wLFIh', last_id='msg_ezzAK1Bkq6IHiGhzao504k6W', has_more=False)\n"
     ]
    }
   ],
   "source": [
    "import json\n",
    "\n",
    "run = client.beta.threads.runs.create_and_poll(\n",
    "thread_id=thread.id,\n",
    "assistant_id=my_assistant.id,\n",
    ")\n",
    "\n",
    "if run.status == 'completed':\n",
    "    messages = client.beta.threads.messages.list(\n",
    "        thread_id=thread.id\n",
    "    )\n",
    "    print(messages)\n",
    "elif run.status == 'requires_action':\n",
    "    # Define the list to store tool outputs\n",
    "    tool_outputs = []\n",
    "\n",
    "    # Loop through each tool in the required action section\n",
    "    for tool in run.required_action.submit_tool_outputs.tool_calls:\n",
    "        if tool.function.name == \"search_tool\":\n",
    "            # For web search, we'll pass through the function arguments as output\n",
    "            tool_outputs.append({\n",
    "                \"tool_call_id\": tool.id,\n",
    "                \"output\": search_tool(json.loads(tool.function.arguments)['query'])\n",
    "            })\n",
    "\n",
    "    # Submit all tool outputs at once after collecting them in a list\n",
    "    if tool_outputs:\n",
    "        try:\n",
    "            run = client.beta.threads.runs.submit_tool_outputs_and_poll(\n",
    "                thread_id=thread.id,\n",
    "                run_id=run.id,\n",
    "                tool_outputs=tool_outputs\n",
    "            )\n",
    "            print(\"Tool outputs submitted successfully.\")\n",
    "            \n",
    "            if run.status == 'completed':\n",
    "                messages = client.beta.threads.messages.list(\n",
    "                    thread_id=thread.id\n",
    "                )\n",
    "                print(messages)\n",
    "            else:\n",
    "                print(run.status)\n",
    "                \n",
    "        except Exception as e:\n",
    "            print(\"Failed to submit tool outputs:\", e)\n",
    "    else:\n",
    "        print(\"No tool outputs to submit.\")\n",
    "else:\n",
    "    print(run.status)"
   ]
  },
  {
   "cell_type": "code",
   "execution_count": 47,
   "metadata": {},
   "outputs": [
    {
     "data": {
      "text/plain": [
       "\"Here are some top activities to do in Ireland based on popular travel resources:\\n\\n1. **Visit Kilmainham Gaol Museum**: Discover Irish history at this historic jail in Dublin, which has played a significant role in the country's path to independence .\\n\\n2. **Explore the Guinness Storehouse**: Learn about Ireland's most famous beer at this immersive museum located at St. James's Gate Brewery in Dublin .\\n\\n3. **Travel the Ring of Kerry**: Experience breathtaking landscapes and picturesque towns along this famous scenic drive in County Kerry .\\n\\n4. **Discover Yeats Country**: Visit the areas associated with the famous poet W.B. Yeats, particularly around Sligo, known for its beautiful landscapes .\\n\\n5. **Experience the Wild Atlantic Way**: Enjoy the stunning coastline of Ireland with activities such as swimming, hiking, and visiting quaint towns along this spectacular route .\\n\\nThese activities offer a mix of cultural, historical, and natural experiences that showcase the diversity of Ireland.\""
      ]
     },
     "execution_count": 47,
     "metadata": {},
     "output_type": "execute_result"
    }
   ],
   "source": [
    "messages.data[0].content[0].text.value"
   ]
  }
 ],
 "metadata": {
  "kernelspec": {
   "display_name": "gpt-assistants",
   "language": "python",
   "name": "gpt-assistants"
  },
  "language_info": {
   "codemirror_mode": {
    "name": "ipython",
    "version": 3
   },
   "file_extension": ".py",
   "mimetype": "text/x-python",
   "name": "python",
   "nbconvert_exporter": "python",
   "pygments_lexer": "ipython3",
   "version": "3.11.11"
  }
 },
 "nbformat": 4,
 "nbformat_minor": 2
}
