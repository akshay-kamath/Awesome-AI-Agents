{
 "cells": [
  {
   "cell_type": "code",
   "execution_count": 2,
   "metadata": {},
   "outputs": [
    {
     "data": {
      "text/plain": [
       "'akshay-kamath'"
      ]
     },
     "execution_count": 2,
     "metadata": {},
     "output_type": "execute_result"
    }
   ],
   "source": [
    "from github import Auth, Github\n",
    "import os\n",
    "\n",
    "auth = Auth.Token(os.getenv(\"GITHUB_ACCESS_TOKEN\"))\n",
    "g = Github(auth=auth)\n",
    "g.get_user().login"
   ]
  },
  {
   "cell_type": "code",
   "execution_count": 3,
   "metadata": {},
   "outputs": [
    {
     "data": {
      "text/plain": [
       "[ContentFile(path=\".gitignore\"), ContentFile(path=\"README.md\")]"
      ]
     },
     "execution_count": 3,
     "metadata": {},
     "output_type": "execute_result"
    }
   ],
   "source": [
    "repo = g.get_repo(\"akshay-kamath/test-repo\")\n",
    "repo.get_contents(\"\")"
   ]
  },
  {
   "cell_type": "code",
   "execution_count": 7,
   "metadata": {},
   "outputs": [
    {
     "data": {
      "text/plain": [
       "{'content': ContentFile(path=\"test.txt\"),\n",
       " 'commit': Commit(sha=\"174f5db954fc5cf1d8031e5d98ce1aad6284c28b\")}"
      ]
     },
     "execution_count": 7,
     "metadata": {},
     "output_type": "execute_result"
    }
   ],
   "source": [
    "# Create a new file in the repository¶\n",
    "\n",
    "repo.create_file(\"test.txt\", \"test\", \"test\", branch=\"main\")"
   ]
  },
  {
   "cell_type": "code",
   "execution_count": 8,
   "metadata": {},
   "outputs": [
    {
     "data": {
      "text/plain": [
       "{'commit': Commit(sha=\"c63555cc2d78a0e22c3301dd1dffa77e18459d6f\"),\n",
       " 'content': ContentFile(path=\"test.txt\")}"
      ]
     },
     "execution_count": 8,
     "metadata": {},
     "output_type": "execute_result"
    }
   ],
   "source": [
    "# Update a file in the repository¶\n",
    "\n",
    "contents = repo.get_contents(\"test.txt\", ref=\"main\")\n",
    "\n",
    "repo.update_file(contents.path, \"more tests\", \"more tests\", contents.sha, branch=\"main\")"
   ]
  },
  {
   "cell_type": "code",
   "execution_count": 9,
   "metadata": {},
   "outputs": [
    {
     "data": {
      "text/plain": [
       "{'commit': Commit(sha=\"4c83bd4ab377b4bd15b716418d5d191b53d31e7c\"),\n",
       " 'content': NotSet}"
      ]
     },
     "execution_count": 9,
     "metadata": {},
     "output_type": "execute_result"
    }
   ],
   "source": [
    "# Delete a file in the repository\n",
    "\n",
    "contents = repo.get_contents(\"test.txt\", ref=\"main\")\n",
    "\n",
    "repo.delete_file(contents.path, \"deleting test\", contents.sha, branch=\"main\")"
   ]
  },
  {
   "cell_type": "code",
   "execution_count": 53,
   "metadata": {},
   "outputs": [],
   "source": [
    "def create_file_tool(repo_name, file_name, commit_msg, file_content, branch=\"main\"):\n",
    "    \"\"\"\n",
    "    Create a file in the repository\n",
    "    \"\"\"\n",
    "    auth = Auth.Token(os.environ.get(\"GITHUB_ACCESS_TOKEN\"))\n",
    "    g = Github(auth=auth)\n",
    "    repo = g.get_repo(f\"akshay-kamath/{repo_name}\")\n",
    "    repo.create_file(file_name, commit_msg, file_content, branch=branch)\n",
    "    return f\"File created successfully: {file_name}\"\n",
    "\n",
    "def update_file_tool(repo_name, file_name, commit_msg, file_content, branch=\"main\"):\n",
    "    \"\"\"\n",
    "    Update a file in the repository\n",
    "    \"\"\"\n",
    "    auth = Auth.Token(os.environ.get(\"GITHUB_ACCESS_TOKEN\"))\n",
    "    g = Github(auth=auth)\n",
    "    repo = g.get_repo(f\"akshay-kamath/{repo_name}\")\n",
    "    contents = repo.get_contents(file_name, ref=branch)\n",
    "    repo.update_file(contents.path, commit_msg, file_content, contents.sha, branch=branch)\n",
    "    return f\"File updated successfully: {file_name}\""
   ]
  },
  {
   "cell_type": "code",
   "execution_count": 51,
   "metadata": {},
   "outputs": [
    {
     "data": {
      "text/plain": [
       "'File created successfully: test.txt'"
      ]
     },
     "execution_count": 51,
     "metadata": {},
     "output_type": "execute_result"
    }
   ],
   "source": [
    "create_file_tool(\"test-repo\", \"test.txt\", \"test\", \"test\", branch=\"main\")"
   ]
  },
  {
   "cell_type": "code",
   "execution_count": 54,
   "metadata": {},
   "outputs": [
    {
     "data": {
      "text/plain": [
       "'File updated successfully: test.txt'"
      ]
     },
     "execution_count": 54,
     "metadata": {},
     "output_type": "execute_result"
    }
   ],
   "source": [
    "update_file_tool(\"test-repo\", \"test.txt\", \"testing pancakes\", \"again pancakes\", branch=\"main\")"
   ]
  },
  {
   "cell_type": "code",
   "execution_count": 55,
   "metadata": {},
   "outputs": [
    {
     "data": {
      "text/plain": [
       "'asst_TIRBYK7UU0fBxfx1eePPdHzZ'"
      ]
     },
     "execution_count": 55,
     "metadata": {},
     "output_type": "execute_result"
    }
   ],
   "source": [
    "from openai import OpenAI\n",
    "\n",
    "client = OpenAI()\n",
    "\n",
    "my_assistant = client.beta.assistants.create(\n",
    "    instructions=\"You are a GitHub assistant. You help users with github related tasks like commits, pull requests, and issues.\",\n",
    "    model=\"gpt-4o\",\n",
    "    name=\"GitHub Assistant\",\n",
    "    tools=[{\"type\": \"file_search\"}, \n",
    "            {\"type\": \"code_interpreter\"}, \n",
    "            {\"type\": \"function\",\n",
    "             \"function\": {\n",
    "                 \"name\": \"create_file_tool\",\n",
    "                 \"description\": \"Create a file in the repository\",\n",
    "                 \"parameters\": {\n",
    "                     \"type\": \"object\",\n",
    "                     \"properties\": {\n",
    "                         \"repo_name\": {\"type\": \"string\", \"description\": \"The name of the repository to create the file in\"},\n",
    "                         \"file_name\": {\"type\": \"string\", \"description\": \"The name of the file to create\"},\n",
    "                         \"commit_msg\": {\"type\": \"string\", \"description\": \"The commit message for the file\"},\n",
    "                         \"file_content\": {\"type\": \"string\", \"description\": \"The content of the file to create\"},\n",
    "                         \"branch\": {\"type\": \"string\", \"description\": \"The branch to create the file on\", \"default\": \"main\"}\n",
    "                     },\n",
    "                     \"required\": [\"repo_name\", \"file_name\", \"commit_msg\", \"file_content\"]\n",
    "                 }\n",
    "             }\n",
    "             },\n",
    "             {\n",
    "                 \"type\": \"function\",\n",
    "                 \"function\": {\n",
    "                     \"name\": \"update_file_tool\",\n",
    "                     \"description\": \"Update a file in the repository\",\n",
    "                     \"parameters\": {\n",
    "                         \"type\": \"object\",\n",
    "                         \"properties\": {\n",
    "                             \"repo_name\": {\"type\": \"string\", \"description\": \"The name of the repository to update\"},\n",
    "                             \"file_name\": {\"type\": \"string\", \"description\": \"The name of the file to update\"},\n",
    "                             \"commit_msg\": {\"type\": \"string\", \"description\": \"The commit message for the file\"},\n",
    "                             \"file_content\": {\"type\": \"string\", \"description\": \"The content of the file to update\"},\n",
    "                             \"branch\": {\"type\": \"string\", \"description\": \"The branch to update the file on\", \"default\": \"main\"}\n",
    "                         },\n",
    "                         \"required\": [\"repo_name\", \"file_name\", \"commit_msg\", \"file_content\"]\n",
    "                     }\n",
    "                 }\n",
    "             }\n",
    "         ]\n",
    ")\n",
    "\n",
    "my_assistant.id"
   ]
  },
  {
   "cell_type": "code",
   "execution_count": 56,
   "metadata": {},
   "outputs": [
    {
     "data": {
      "text/plain": [
       "\"Create a new file called testing_github_assistant.md with the content 'Testing Github Assistant' on the main branch of test-repo?\""
      ]
     },
     "execution_count": 56,
     "metadata": {},
     "output_type": "execute_result"
    }
   ],
   "source": [
    "thread = client.beta.threads.create()\n",
    "\n",
    "message = client.beta.threads.messages.create(\n",
    "    thread_id=thread.id,\n",
    "    role=\"user\",\n",
    "    content=\"Create a new file called testing_github_assistant.md with the content 'Testing Github Assistant' on the main branch of test-repo?\"\n",
    ")\n",
    "\n",
    "message.content[0].text.value"
   ]
  },
  {
   "cell_type": "code",
   "execution_count": 57,
   "metadata": {},
   "outputs": [],
   "source": [
    "tool_map = {\n",
    "    \"create_file_tool\": lambda args: create_file_tool(**args),\n",
    "    \"update_file_tool\": lambda args: update_file_tool(**args)\n",
    "}"
   ]
  },
  {
   "cell_type": "code",
   "execution_count": 58,
   "metadata": {},
   "outputs": [
    {
     "name": "stdout",
     "output_type": "stream",
     "text": [
      "SyncCursorPage[Message](data=[Message(id='msg_QcURfkKWDURyxZM7pxYWONs2', assistant_id='asst_TIRBYK7UU0fBxfx1eePPdHzZ', attachments=[], completed_at=None, content=[TextContentBlock(text=Text(annotations=[], value='The file `testing_github_assistant.md` has been successfully created on the main branch of the `test-repo` with the content \"Testing Github Assistant\".'), type='text')], created_at=1736701928, incomplete_at=None, incomplete_details=None, metadata={}, object='thread.message', role='assistant', run_id='run_sTinBZQW3kH3hRM26J722PdF', status=None, thread_id='thread_QEE3Qmm3UuzRI2M0Y2LFuKAZ'), Message(id='msg_Tr6ueeLFUNxyg2jwkJe85Z6n', assistant_id=None, attachments=[], completed_at=None, content=[TextContentBlock(text=Text(annotations=[], value=\"Create a new file called testing_github_assistant.md with the content 'Testing Github Assistant' on the main branch of test-repo?\"), type='text')], created_at=1736701905, incomplete_at=None, incomplete_details=None, metadata={}, object='thread.message', role='user', run_id=None, status=None, thread_id='thread_QEE3Qmm3UuzRI2M0Y2LFuKAZ')], object='list', first_id='msg_QcURfkKWDURyxZM7pxYWONs2', last_id='msg_Tr6ueeLFUNxyg2jwkJe85Z6n', has_more=False)\n"
     ]
    }
   ],
   "source": [
    "import json\n",
    "\n",
    "def run_assistant_with_tools(client, thread_id, assistant_id, tool_map=None):\n",
    "    \"\"\"\n",
    "    Run an assistant with tool handling capabilities.\n",
    "    \n",
    "    Args:\n",
    "        client: OpenAI client instance\n",
    "        thread_id: ID of the thread to run\n",
    "        assistant_id: ID of the assistant to use\n",
    "        tool_map: Dictionary mapping tool names to their handler functions\n",
    "    \n",
    "    Returns:\n",
    "        The messages from the completed run, or None if unsuccessful\n",
    "    \"\"\"\n",
    "    \n",
    "    if tool_map is None:\n",
    "        tool_map = {}\n",
    "        \n",
    "    run = client.beta.threads.runs.create_and_poll(\n",
    "        thread_id=thread_id,\n",
    "        assistant_id=assistant_id,\n",
    "    )\n",
    "\n",
    "    if run.status == 'completed':\n",
    "        messages = client.beta.threads.messages.list(\n",
    "            thread_id=thread_id\n",
    "        )\n",
    "        return messages\n",
    "        \n",
    "    elif run.status == 'requires_action':\n",
    "        tool_outputs = []\n",
    "\n",
    "        for tool in run.required_action.submit_tool_outputs.tool_calls:\n",
    "            if tool.function.name in tool_map:\n",
    "                tool_outputs.append({\n",
    "                    \"tool_call_id\": tool.id,\n",
    "                    \"output\": tool_map[tool.function.name](json.loads(tool.function.arguments))\n",
    "                })\n",
    "\n",
    "        if tool_outputs:\n",
    "            try:\n",
    "                run = client.beta.threads.runs.submit_tool_outputs_and_poll(\n",
    "                    thread_id=thread_id,\n",
    "                    run_id=run.id,\n",
    "                    tool_outputs=tool_outputs\n",
    "                )\n",
    "                \n",
    "                if run.status == 'completed':\n",
    "                    messages = client.beta.threads.messages.list(\n",
    "                        thread_id=thread_id\n",
    "                    )\n",
    "                    return messages\n",
    "                else:\n",
    "                    return None\n",
    "                    \n",
    "            except Exception as e:\n",
    "                print(f\"Failed to submit tool outputs: {e}\")\n",
    "                return None\n",
    "                \n",
    "        return None\n",
    "        \n",
    "    return None\n",
    "\n",
    "# Example usage:    \n",
    "\n",
    "messages = run_assistant_with_tools(client, thread.id, my_assistant.id, tool_map)\n",
    "if messages:\n",
    "    print(messages)"
   ]
  },
  {
   "cell_type": "code",
   "execution_count": null,
   "metadata": {},
   "outputs": [],
   "source": []
  },
  {
   "cell_type": "code",
   "execution_count": null,
   "metadata": {},
   "outputs": [],
   "source": []
  },
  {
   "cell_type": "code",
   "execution_count": null,
   "metadata": {},
   "outputs": [],
   "source": []
  }
 ],
 "metadata": {
  "kernelspec": {
   "display_name": "gpt-assistants",
   "language": "python",
   "name": "gpt-assistants"
  },
  "language_info": {
   "codemirror_mode": {
    "name": "ipython",
    "version": 3
   },
   "file_extension": ".py",
   "mimetype": "text/x-python",
   "name": "python",
   "nbconvert_exporter": "python",
   "pygments_lexer": "ipython3",
   "version": "3.11.11"
  }
 },
 "nbformat": 4,
 "nbformat_minor": 2
}
